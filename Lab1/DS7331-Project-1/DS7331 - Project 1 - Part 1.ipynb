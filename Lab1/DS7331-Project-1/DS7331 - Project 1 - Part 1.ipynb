{
 "cells": [
  {
   "cell_type": "markdown",
   "id": "6baab44a",
   "metadata": {},
   "source": [
    "# DS7331 Project 1 \n",
    "#### Group 2: Hollie Gardner, Cleveland Johnson, Shelby Provost\n",
    "Dataset from https://archive-beta.ics.uci.edu/ml/datasets/census+income"
   ]
  },
  {
   "cell_type": "code",
   "execution_count": 17,
   "id": "329f550a",
   "metadata": {},
   "outputs": [],
   "source": [
    "#import libraries\n",
    "import pandas as pd\n",
    "import numpy as np\n",
    "import matplotlib.pyplot as plt\n",
    "import warnings\n",
    "import seaborn as sns"
   ]
  },
  {
   "cell_type": "markdown",
   "id": "0939dbe5",
   "metadata": {},
   "source": [
    "## Lab One - Visualization and Data Preprocessing \n",
    "### Part One: Business Understanding \n",
    "* **1. Describe the purpose of the data set you selected (i.e., why was this data collected in the first place?).**<br>\n",
    "    <br>Census data is regularly collected by the US Census Bureau in order for the government to understand the characteristics of US population. Data collected from every household in the US through census surveys typically includes details on a number of items such as number of people in the household, income, profession, race/ethnity, languages spoken, sex, age, etc. This dataset was extract from the 1994 Census database by Barry Becker for the purpose of predicting if an individual's income is greater than $50k.<br>\n",
    "    <br>\n",
    "\n",
    "* **2. Describe how you would define and measure the outcomes from the dataset.**<br>\n",
    "    <br>[Not sure what this is asking]<br>\n",
    "    <br>\n",
    "    \n",
    "* **3. Why is this data important and how do you know if you have mined useful knowledge from the dataset?**<br>\n",
    "    <br>This data is important because it helps the government understand the health of the economy and the ability of its citizens to participate fully. The data can assist government offices in identifying priorities for initiatives or policies to push forward. Furthermore, the data can provide some insight into any inequities that exist within sex, age, or race categories or comparing similar jobs across private and government sectors. Useful knowledge mined from the dataset would be able to confidently explain possible relationships from correlations between the attributes to provide insights to provide the \"what\" is happening, so action can be taken to figure out \"why\" it is happening. <br>\n",
    "    <br>\n",
    "* **4. How would you measure the effectiveness of a good prediction algorithm?**<br>\n",
    "    <br>The effectiveness of a good prediction algorithm would be measured through the error rates in the algorithm's ability to classify learn from the training data and predict the individual income categories in the test set based off of the attributes provided."
   ]
  },
  {
   "cell_type": "markdown",
   "id": "1cfa6180",
   "metadata": {},
   "source": [
    "### Part Two: EDA \n",
    "**1. Describe the meaning and type of data (scale, values, etc.) for each attribute in the data file.**\n",
    "\n"
   ]
  },
  {
   "cell_type": "markdown",
   "id": "9ada2103",
   "metadata": {},
   "source": [
    "This dataset contains 15 attributes for 32,560 instances in the training set. The test set includes an additional 16,281 instances. In addition to the code below, details were obtained from the adult.names file provided by dataset donors from the above linked UCI website.\n",
    "\n",
    "The attribute descriptions are as follows:\n",
    "* **age** (integer, range 17-90 ): This is the age of the individual. \n",
    "* **workclass** (categorical, 9 levels): Work class is the sector or category of the individual's occupation\n",
    "* **fnlwgt** (integer, range 13769-1484705): The \"final weight\" attribute was calculated from the Current Population Survey and \"refers to population totals derived from CPS by creating \"weighted tallies\" of any specified socio-economic characteristics of the population.\" (See full description of this attribute from Kohavi and Becker below)\n",
    "* **education** (categorical, 16 levels): Highest level of education the individual has obtained\n",
    "* **education-num** (integer, range 1-16): ___\n",
    "* **marital-status** (categorical, 7 levels): The individual's marital status\n",
    "* **occupation** (categorical, 15 levels): The type of work an individual performs\n",
    "* **relationship** (categorical, 6 levels): ____\n",
    "* **race** (categorical, 5 levels): Individual's racial group\n",
    "* **sex** (categorical, 2 levels): Male or Female\n",
    "* **capital-gain** (integer, range 0-99999): _____\n",
    "* **capital-loss** (integer, range 0-4356): _____\n",
    "* **hours-per-week** (integer, range 1-99): Number of hours per week individual works in occupation\n",
    "* **native-country** (categorical, 42 levels): The individual's native country\n",
    "* **income** (categorical, 2 levels): This has been converted from the raw data to be less than or equal to $50K or greater than $50K\n",
    "<br>\n",
    "<br>**Kohavi and Becker Description of Final Weight from adult.names file:**\n",
    "<br>\n",
    "<br>| The weights on the CPS files are controlled to independent estimates of the\n",
    "<br>| civilian noninstitutional population of the US.  These are prepared monthly\n",
    "<br>| for us by Population Division here at the Census Bureau.  We use 3 sets of\n",
    "<br>| controls.\n",
    "<br>|  These are:\n",
    "<br>|          1.  A single cell estimate of the population 16+ for each state.\n",
    "<br>|          2.  Controls for Hispanic Origin by age and sex.\n",
    "<br>|          3.  Controls by Race, age and sex.\n",
    "<br>|\n",
    "<br>| We use all three sets of controls in our weighting program and \"rake\" through\n",
    "<br>| them 6 times so that by the end we come back to all the controls we used.\n",
    "<br>|\n",
    "<br>| The term estimate refers to population totals derived from CPS by creating\n",
    "<br>| \"weighted tallies\" of any specified socio-economic characteristics of the\n",
    "<br>| population.\n",
    "<br>|\n",
    "<br>| People with similar demographic characteristics should have\n",
    "<br>| similar weights.  There is one important caveat to remember\n",
    "<br>| about this statement.  That is that since the CPS sample is\n",
    "<br>| actually a collection of 51 state samples, each with its own\n",
    "<br>| probability of selection, the statement only applies within\n",
    "<br>| state."
   ]
  },
  {
   "cell_type": "code",
   "execution_count": 3,
   "id": "2f225805",
   "metadata": {},
   "outputs": [
    {
     "data": {
      "text/html": [
       "<div>\n",
       "<style scoped>\n",
       "    .dataframe tbody tr th:only-of-type {\n",
       "        vertical-align: middle;\n",
       "    }\n",
       "\n",
       "    .dataframe tbody tr th {\n",
       "        vertical-align: top;\n",
       "    }\n",
       "\n",
       "    .dataframe thead th {\n",
       "        text-align: right;\n",
       "    }\n",
       "</style>\n",
       "<table border=\"1\" class=\"dataframe\">\n",
       "  <thead>\n",
       "    <tr style=\"text-align: right;\">\n",
       "      <th></th>\n",
       "      <th>age</th>\n",
       "      <th>workclass</th>\n",
       "      <th>fnlwgt</th>\n",
       "      <th>education</th>\n",
       "      <th>education-num</th>\n",
       "      <th>marital-status</th>\n",
       "      <th>occupation</th>\n",
       "      <th>relationship</th>\n",
       "      <th>race</th>\n",
       "      <th>sex</th>\n",
       "      <th>capital-gain</th>\n",
       "      <th>capital-loss</th>\n",
       "      <th>hours-per-week</th>\n",
       "      <th>native-country</th>\n",
       "      <th>income</th>\n",
       "    </tr>\n",
       "  </thead>\n",
       "  <tbody>\n",
       "    <tr>\n",
       "      <th>0</th>\n",
       "      <td>39</td>\n",
       "      <td>State-gov</td>\n",
       "      <td>77516</td>\n",
       "      <td>Bachelors</td>\n",
       "      <td>13</td>\n",
       "      <td>Never-married</td>\n",
       "      <td>Adm-clerical</td>\n",
       "      <td>Not-in-family</td>\n",
       "      <td>White</td>\n",
       "      <td>Male</td>\n",
       "      <td>2174</td>\n",
       "      <td>0</td>\n",
       "      <td>40</td>\n",
       "      <td>United-States</td>\n",
       "      <td>&lt;=50K</td>\n",
       "    </tr>\n",
       "    <tr>\n",
       "      <th>1</th>\n",
       "      <td>50</td>\n",
       "      <td>Self-emp-not-inc</td>\n",
       "      <td>83311</td>\n",
       "      <td>Bachelors</td>\n",
       "      <td>13</td>\n",
       "      <td>Married-civ-spouse</td>\n",
       "      <td>Exec-managerial</td>\n",
       "      <td>Husband</td>\n",
       "      <td>White</td>\n",
       "      <td>Male</td>\n",
       "      <td>0</td>\n",
       "      <td>0</td>\n",
       "      <td>13</td>\n",
       "      <td>United-States</td>\n",
       "      <td>&lt;=50K</td>\n",
       "    </tr>\n",
       "    <tr>\n",
       "      <th>2</th>\n",
       "      <td>38</td>\n",
       "      <td>Private</td>\n",
       "      <td>215646</td>\n",
       "      <td>HS-grad</td>\n",
       "      <td>9</td>\n",
       "      <td>Divorced</td>\n",
       "      <td>Handlers-cleaners</td>\n",
       "      <td>Not-in-family</td>\n",
       "      <td>White</td>\n",
       "      <td>Male</td>\n",
       "      <td>0</td>\n",
       "      <td>0</td>\n",
       "      <td>40</td>\n",
       "      <td>United-States</td>\n",
       "      <td>&lt;=50K</td>\n",
       "    </tr>\n",
       "    <tr>\n",
       "      <th>3</th>\n",
       "      <td>53</td>\n",
       "      <td>Private</td>\n",
       "      <td>234721</td>\n",
       "      <td>11th</td>\n",
       "      <td>7</td>\n",
       "      <td>Married-civ-spouse</td>\n",
       "      <td>Handlers-cleaners</td>\n",
       "      <td>Husband</td>\n",
       "      <td>Black</td>\n",
       "      <td>Male</td>\n",
       "      <td>0</td>\n",
       "      <td>0</td>\n",
       "      <td>40</td>\n",
       "      <td>United-States</td>\n",
       "      <td>&lt;=50K</td>\n",
       "    </tr>\n",
       "    <tr>\n",
       "      <th>4</th>\n",
       "      <td>28</td>\n",
       "      <td>Private</td>\n",
       "      <td>338409</td>\n",
       "      <td>Bachelors</td>\n",
       "      <td>13</td>\n",
       "      <td>Married-civ-spouse</td>\n",
       "      <td>Prof-specialty</td>\n",
       "      <td>Wife</td>\n",
       "      <td>Black</td>\n",
       "      <td>Female</td>\n",
       "      <td>0</td>\n",
       "      <td>0</td>\n",
       "      <td>40</td>\n",
       "      <td>Cuba</td>\n",
       "      <td>&lt;=50K</td>\n",
       "    </tr>\n",
       "  </tbody>\n",
       "</table>\n",
       "</div>"
      ],
      "text/plain": [
       "   age         workclass  fnlwgt  education  education-num  \\\n",
       "0   39         State-gov   77516  Bachelors             13   \n",
       "1   50  Self-emp-not-inc   83311  Bachelors             13   \n",
       "2   38           Private  215646    HS-grad              9   \n",
       "3   53           Private  234721       11th              7   \n",
       "4   28           Private  338409  Bachelors             13   \n",
       "\n",
       "       marital-status         occupation   relationship   race     sex  \\\n",
       "0       Never-married       Adm-clerical  Not-in-family  White    Male   \n",
       "1  Married-civ-spouse    Exec-managerial        Husband  White    Male   \n",
       "2            Divorced  Handlers-cleaners  Not-in-family  White    Male   \n",
       "3  Married-civ-spouse  Handlers-cleaners        Husband  Black    Male   \n",
       "4  Married-civ-spouse     Prof-specialty           Wife  Black  Female   \n",
       "\n",
       "   capital-gain  capital-loss  hours-per-week native-country income  \n",
       "0          2174             0              40  United-States  <=50K  \n",
       "1             0             0              13  United-States  <=50K  \n",
       "2             0             0              40  United-States  <=50K  \n",
       "3             0             0              40  United-States  <=50K  \n",
       "4             0             0              40           Cuba  <=50K  "
      ]
     },
     "execution_count": 3,
     "metadata": {},
     "output_type": "execute_result"
    }
   ],
   "source": [
    "# Importing the census dataset using pandas\n",
    "# Reading the CSV file after converting file to csv and removing superfluous spaces via Excel.\n",
    "df = pd.read_csv('adult-data.csv')\n",
    "\n",
    "# Getting a first look at the dataset\n",
    "df.head()"
   ]
  },
  {
   "cell_type": "code",
   "execution_count": 4,
   "id": "e2c4a2e2",
   "metadata": {},
   "outputs": [
    {
     "name": "stdout",
     "output_type": "stream",
     "text": [
      "<class 'pandas.core.frame.DataFrame'>\n",
      "RangeIndex: 32561 entries, 0 to 32560\n",
      "Data columns (total 15 columns):\n",
      " #   Column          Non-Null Count  Dtype \n",
      "---  ------          --------------  ----- \n",
      " 0   age             32561 non-null  int64 \n",
      " 1   workclass       32561 non-null  object\n",
      " 2   fnlwgt          32561 non-null  int64 \n",
      " 3   education       32561 non-null  object\n",
      " 4   education-num   32561 non-null  int64 \n",
      " 5   marital-status  32561 non-null  object\n",
      " 6   occupation      32561 non-null  object\n",
      " 7   relationship    32561 non-null  object\n",
      " 8   race            32561 non-null  object\n",
      " 9   sex             32561 non-null  object\n",
      " 10  capital-gain    32561 non-null  int64 \n",
      " 11  capital-loss    32561 non-null  int64 \n",
      " 12  hours-per-week  32561 non-null  int64 \n",
      " 13  native-country  32561 non-null  object\n",
      " 14  income          32561 non-null  object\n",
      "dtypes: int64(6), object(9)\n",
      "memory usage: 3.7+ MB\n",
      "None\n"
     ]
    }
   ],
   "source": [
    "#summary of the dataset\n",
    "print (df.info())"
   ]
  },
  {
   "cell_type": "code",
   "execution_count": 5,
   "id": "73f30f38",
   "metadata": {},
   "outputs": [
    {
     "name": "stdout",
     "output_type": "stream",
     "text": [
      "age                  73\n",
      "workclass             9\n",
      "fnlwgt            21648\n",
      "education            16\n",
      "education-num        16\n",
      "marital-status        7\n",
      "occupation           15\n",
      "relationship          6\n",
      "race                  5\n",
      "sex                   2\n",
      "capital-gain        119\n",
      "capital-loss         92\n",
      "hours-per-week       94\n",
      "native-country       42\n",
      "income                2\n",
      "dtype: int64\n"
     ]
    }
   ],
   "source": [
    "#obtaining number of levels for each object attribute\n",
    "print(df.nunique())"
   ]
  },
  {
   "cell_type": "markdown",
   "id": "93ff541c",
   "metadata": {},
   "source": [
    "**2. Explain any missing values, duplicate data, and outliers. Are those mistakes? How do you deal with these problems?**<br>\n",
    "<br>\n",
    "    According to the Kohavi and Becker, the following changes have already been made to the raw data:\n",
    "* Discretized agrossincome into two ranges with threshold 50,000.\n",
    "* Convert U.S. to US to avoid periods.\n",
    "* Convert Unknown to \"?\"\n",
    "* Run MLC++ GenCVFiles to generate data,test.\n",
    "<br>\n",
    "\n",
    "Therefore, we will begin by looking for the '?' values in the dataset by counting the number in each column. Then, we will replace as null using numpy. We decided to handle missing values in the following three variables which possessed missing values as below: \n",
    "\n",
    "* Workclass: 1836 rows\n",
    "* Occupation: 1843 rows\n",
    "* Native-Country: 583 rows\n",
    "\n",
    "There is not a way to impute values for these categorical variables and leaving as unknown variables does not add value to our analysis. Therefore, these rows will be removed leaving us with 30,162 complete rows in this dataframe.\n",
    "\n",
    "As for duplicates, Kohavi and Becker described 6 duplicate rows. After reviewing our current dataframe, there do not appear to be any instances of duplicate data.\n"
   ]
  },
  {
   "cell_type": "code",
   "execution_count": 6,
   "id": "8b7bd1ad",
   "metadata": {},
   "outputs": [
    {
     "data": {
      "text/plain": [
       "age                  0\n",
       "workclass         1836\n",
       "fnlwgt               0\n",
       "education            0\n",
       "education-num        0\n",
       "marital-status       0\n",
       "occupation        1843\n",
       "relationship         0\n",
       "race                 0\n",
       "sex                  0\n",
       "capital-gain         0\n",
       "capital-loss         0\n",
       "hours-per-week       0\n",
       "native-country     583\n",
       "income               0\n",
       "dtype: int64"
      ]
     },
     "execution_count": 6,
     "metadata": {},
     "output_type": "execute_result"
    }
   ],
   "source": [
    "#viewing number of missing values that had \n",
    "df.isin(['?']).sum(axis=0)"
   ]
  },
  {
   "cell_type": "code",
   "execution_count": 7,
   "id": "1faf4f91",
   "metadata": {},
   "outputs": [
    {
     "name": "stdout",
     "output_type": "stream",
     "text": [
      "<class 'pandas.core.frame.DataFrame'>\n",
      "RangeIndex: 32561 entries, 0 to 32560\n",
      "Data columns (total 15 columns):\n",
      " #   Column          Non-Null Count  Dtype \n",
      "---  ------          --------------  ----- \n",
      " 0   age             32561 non-null  int64 \n",
      " 1   workclass       30725 non-null  object\n",
      " 2   fnlwgt          32561 non-null  int64 \n",
      " 3   education       32561 non-null  object\n",
      " 4   education-num   32561 non-null  int64 \n",
      " 5   marital-status  32561 non-null  object\n",
      " 6   occupation      30718 non-null  object\n",
      " 7   relationship    32561 non-null  object\n",
      " 8   race            32561 non-null  object\n",
      " 9   sex             32561 non-null  object\n",
      " 10  capital-gain    32561 non-null  int64 \n",
      " 11  capital-loss    32561 non-null  int64 \n",
      " 12  hours-per-week  32561 non-null  int64 \n",
      " 13  native-country  31978 non-null  object\n",
      " 14  income          32561 non-null  object\n",
      "dtypes: int64(6), object(9)\n",
      "memory usage: 3.7+ MB\n",
      "None\n"
     ]
    }
   ],
   "source": [
    "#converting '?' values to nan and then removing the row (code from asynch 1 notebook)\n",
    "df = df.replace(to_replace='?',value=np.nan) # replace -1 with NaN (not a number)\n",
    "print (df.info())"
   ]
  },
  {
   "cell_type": "code",
   "execution_count": 8,
   "id": "4a75e40b",
   "metadata": {},
   "outputs": [],
   "source": [
    "df.dropna(inplace=True)"
   ]
  },
  {
   "cell_type": "code",
   "execution_count": 9,
   "id": "3d03160c",
   "metadata": {},
   "outputs": [
    {
     "name": "stdout",
     "output_type": "stream",
     "text": [
      "<class 'pandas.core.frame.DataFrame'>\n",
      "Int64Index: 30162 entries, 0 to 32560\n",
      "Data columns (total 15 columns):\n",
      " #   Column          Non-Null Count  Dtype \n",
      "---  ------          --------------  ----- \n",
      " 0   age             30162 non-null  int64 \n",
      " 1   workclass       30162 non-null  object\n",
      " 2   fnlwgt          30162 non-null  int64 \n",
      " 3   education       30162 non-null  object\n",
      " 4   education-num   30162 non-null  int64 \n",
      " 5   marital-status  30162 non-null  object\n",
      " 6   occupation      30162 non-null  object\n",
      " 7   relationship    30162 non-null  object\n",
      " 8   race            30162 non-null  object\n",
      " 9   sex             30162 non-null  object\n",
      " 10  capital-gain    30162 non-null  int64 \n",
      " 11  capital-loss    30162 non-null  int64 \n",
      " 12  hours-per-week  30162 non-null  int64 \n",
      " 13  native-country  30162 non-null  object\n",
      " 14  income          30162 non-null  object\n",
      "dtypes: int64(6), object(9)\n",
      "memory usage: 3.7+ MB\n"
     ]
    }
   ],
   "source": [
    "#Kohavi and Becker describe 6 instances of duplicates. i can't seem to find them. \n",
    "df.duplicated(subset=None, keep='first')\n",
    "df.info()\n",
    "#no changes in values. the duplicates have likely been removed prior."
   ]
  },
  {
   "cell_type": "markdown",
   "id": "223a881b",
   "metadata": {},
   "source": [
    "**3. Give simple, appropriate statistics (range, mode, mean, median, variance, counts, etc.) for the most important attributes and describe what they mean or if you found something interesting. Note: You can also use data from other sources for comparison. Explain the significance of the statistics run and why they are meaningful.**"
   ]
  },
  {
   "cell_type": "code",
   "execution_count": 10,
   "id": "6ff1a985",
   "metadata": {},
   "outputs": [
    {
     "data": {
      "text/html": [
       "<div>\n",
       "<style scoped>\n",
       "    .dataframe tbody tr th:only-of-type {\n",
       "        vertical-align: middle;\n",
       "    }\n",
       "\n",
       "    .dataframe tbody tr th {\n",
       "        vertical-align: top;\n",
       "    }\n",
       "\n",
       "    .dataframe thead th {\n",
       "        text-align: right;\n",
       "    }\n",
       "</style>\n",
       "<table border=\"1\" class=\"dataframe\">\n",
       "  <thead>\n",
       "    <tr style=\"text-align: right;\">\n",
       "      <th></th>\n",
       "      <th>age</th>\n",
       "      <th>fnlwgt</th>\n",
       "      <th>education-num</th>\n",
       "      <th>capital-gain</th>\n",
       "      <th>capital-loss</th>\n",
       "      <th>hours-per-week</th>\n",
       "    </tr>\n",
       "  </thead>\n",
       "  <tbody>\n",
       "    <tr>\n",
       "      <th>count</th>\n",
       "      <td>30162.000000</td>\n",
       "      <td>3.016200e+04</td>\n",
       "      <td>30162.000000</td>\n",
       "      <td>30162.000000</td>\n",
       "      <td>30162.000000</td>\n",
       "      <td>30162.000000</td>\n",
       "    </tr>\n",
       "    <tr>\n",
       "      <th>mean</th>\n",
       "      <td>38.437902</td>\n",
       "      <td>1.897938e+05</td>\n",
       "      <td>10.121312</td>\n",
       "      <td>1092.007858</td>\n",
       "      <td>88.372489</td>\n",
       "      <td>40.931238</td>\n",
       "    </tr>\n",
       "    <tr>\n",
       "      <th>std</th>\n",
       "      <td>13.134665</td>\n",
       "      <td>1.056530e+05</td>\n",
       "      <td>2.549995</td>\n",
       "      <td>7406.346497</td>\n",
       "      <td>404.298370</td>\n",
       "      <td>11.979984</td>\n",
       "    </tr>\n",
       "    <tr>\n",
       "      <th>min</th>\n",
       "      <td>17.000000</td>\n",
       "      <td>1.376900e+04</td>\n",
       "      <td>1.000000</td>\n",
       "      <td>0.000000</td>\n",
       "      <td>0.000000</td>\n",
       "      <td>1.000000</td>\n",
       "    </tr>\n",
       "    <tr>\n",
       "      <th>25%</th>\n",
       "      <td>28.000000</td>\n",
       "      <td>1.176272e+05</td>\n",
       "      <td>9.000000</td>\n",
       "      <td>0.000000</td>\n",
       "      <td>0.000000</td>\n",
       "      <td>40.000000</td>\n",
       "    </tr>\n",
       "    <tr>\n",
       "      <th>50%</th>\n",
       "      <td>37.000000</td>\n",
       "      <td>1.784250e+05</td>\n",
       "      <td>10.000000</td>\n",
       "      <td>0.000000</td>\n",
       "      <td>0.000000</td>\n",
       "      <td>40.000000</td>\n",
       "    </tr>\n",
       "    <tr>\n",
       "      <th>75%</th>\n",
       "      <td>47.000000</td>\n",
       "      <td>2.376285e+05</td>\n",
       "      <td>13.000000</td>\n",
       "      <td>0.000000</td>\n",
       "      <td>0.000000</td>\n",
       "      <td>45.000000</td>\n",
       "    </tr>\n",
       "    <tr>\n",
       "      <th>max</th>\n",
       "      <td>90.000000</td>\n",
       "      <td>1.484705e+06</td>\n",
       "      <td>16.000000</td>\n",
       "      <td>99999.000000</td>\n",
       "      <td>4356.000000</td>\n",
       "      <td>99.000000</td>\n",
       "    </tr>\n",
       "  </tbody>\n",
       "</table>\n",
       "</div>"
      ],
      "text/plain": [
       "                age        fnlwgt  education-num  capital-gain  capital-loss  \\\n",
       "count  30162.000000  3.016200e+04   30162.000000  30162.000000  30162.000000   \n",
       "mean      38.437902  1.897938e+05      10.121312   1092.007858     88.372489   \n",
       "std       13.134665  1.056530e+05       2.549995   7406.346497    404.298370   \n",
       "min       17.000000  1.376900e+04       1.000000      0.000000      0.000000   \n",
       "25%       28.000000  1.176272e+05       9.000000      0.000000      0.000000   \n",
       "50%       37.000000  1.784250e+05      10.000000      0.000000      0.000000   \n",
       "75%       47.000000  2.376285e+05      13.000000      0.000000      0.000000   \n",
       "max       90.000000  1.484705e+06      16.000000  99999.000000   4356.000000   \n",
       "\n",
       "       hours-per-week  \n",
       "count    30162.000000  \n",
       "mean        40.931238  \n",
       "std         11.979984  \n",
       "min          1.000000  \n",
       "25%         40.000000  \n",
       "50%         40.000000  \n",
       "75%         45.000000  \n",
       "max         99.000000  "
      ]
     },
     "execution_count": 10,
     "metadata": {},
     "output_type": "execute_result"
    }
   ],
   "source": [
    "#viewing the statistics for the numeric attributes\n",
    "df.describe()"
   ]
  },
  {
   "cell_type": "code",
   "execution_count": 11,
   "id": "d56cdd15",
   "metadata": {},
   "outputs": [],
   "source": [
    "#convert income to 0 and 1 to enable easier analysis (code from https://towardsdatascience.com/a-beginners-guide-to-data-analysis-machine-learning-with-python-adult-salary-dataset-e5fc028b6f0a)\n",
    "df['income'] = df['income'].map({'<=50K': 0, '>50K': 1}).astype(int)"
   ]
  },
  {
   "cell_type": "markdown",
   "id": "ac10d223",
   "metadata": {},
   "source": [
    "The above provides a snapshot of what is happening within the numeric values. "
   ]
  },
  {
   "cell_type": "code",
   "execution_count": 12,
   "id": "6a065ded",
   "metadata": {},
   "outputs": [
    {
     "name": "stdout",
     "output_type": "stream",
     "text": [
      "race\n",
      "Amer-Indian-Eskimo    0.118881\n",
      "Asian-Pac-Islander    0.277095\n",
      "Black                 0.129925\n",
      "Other                 0.090909\n",
      "White                 0.263718\n",
      "Name: income, dtype: float64\n",
      "sex\n",
      "Female    0.113678\n",
      "Male      0.313837\n",
      "Name: income, dtype: float64\n",
      "marital-status\n",
      "Divorced                 0.107262\n",
      "Married-AF-spouse        0.476190\n",
      "Married-civ-spouse       0.454959\n",
      "Married-spouse-absent    0.083784\n",
      "Never-married            0.048324\n",
      "Separated                0.070288\n",
      "Widowed                  0.096735\n",
      "Name: income, dtype: float64\n",
      "native-country\n",
      "Cambodia                      0.388889\n",
      "Canada                        0.336449\n",
      "China                         0.294118\n",
      "Columbia                      0.035714\n",
      "Cuba                          0.271739\n",
      "Dominican-Republic            0.029851\n",
      "Ecuador                       0.148148\n",
      "El-Salvador                   0.090000\n",
      "England                       0.348837\n",
      "France                        0.444444\n",
      "Germany                       0.343750\n",
      "Greece                        0.275862\n",
      "Guatemala                     0.047619\n",
      "Haiti                         0.095238\n",
      "Holand-Netherlands            0.000000\n",
      "Honduras                      0.083333\n",
      "Hong                          0.315789\n",
      "Hungary                       0.230769\n",
      "India                         0.400000\n",
      "Iran                          0.428571\n",
      "Ireland                       0.208333\n",
      "Italy                         0.352941\n",
      "Jamaica                       0.125000\n",
      "Japan                         0.389831\n",
      "Laos                          0.117647\n",
      "Mexico                        0.054098\n",
      "Nicaragua                     0.060606\n",
      "Outlying-US(Guam-USVI-etc)    0.000000\n",
      "Peru                          0.066667\n",
      "Philippines                   0.319149\n",
      "Poland                        0.196429\n",
      "Portugal                      0.117647\n",
      "Puerto-Rico                   0.110092\n",
      "Scotland                      0.181818\n",
      "South                         0.197183\n",
      "Taiwan                        0.452381\n",
      "Thailand                      0.176471\n",
      "Trinadad&Tobago               0.111111\n",
      "United-States                 0.254327\n",
      "Vietnam                       0.078125\n",
      "Yugoslavia                    0.375000\n",
      "Name: income, dtype: float64\n"
     ]
    }
   ],
   "source": [
    "#Aggregating by race and income over 50K (code adapted from asynch 2 notebook)\n",
    "df_grouped = df.groupby(by='race')\n",
    "print (df_grouped.income.sum() / df_grouped.income.count())#percentage\n",
    "df_grouped = df.groupby(by='sex')\n",
    "print (df_grouped.income.sum() / df_grouped.income.count())#percentage\n",
    "df_grouped = df.groupby(by='marital-status')\n",
    "print (df_grouped.income.sum() / df_grouped.income.count())#percentage\n",
    "df_grouped = df.groupby(by='native-country')\n",
    "print (df_grouped.income.sum() / df_grouped.income.count())#percentage"
   ]
  },
  {
   "cell_type": "code",
   "execution_count": 13,
   "id": "aa32738b",
   "metadata": {},
   "outputs": [
    {
     "name": "stdout",
     "output_type": "stream",
     "text": [
      "occupation\n",
      "Adm-clerical         0.133835\n",
      "Armed-Forces         0.111111\n",
      "Craft-repair         0.225310\n",
      "Exec-managerial      0.485220\n",
      "Farming-fishing      0.116279\n",
      "Handlers-cleaners    0.061481\n",
      "Machine-op-inspct    0.124619\n",
      "Other-service        0.041096\n",
      "Priv-house-serv      0.006993\n",
      "Prof-specialty       0.448489\n",
      "Protective-serv      0.326087\n",
      "Sales                0.270647\n",
      "Tech-support         0.304825\n",
      "Transport-moving     0.202926\n",
      "Name: income, dtype: float64\n",
      "workclass\n",
      "Federal-gov         0.387063\n",
      "Local-gov           0.294630\n",
      "Private             0.218792\n",
      "Self-emp-inc        0.558659\n",
      "Self-emp-not-inc    0.285714\n",
      "State-gov           0.268960\n",
      "Without-pay         0.000000\n",
      "Name: income, dtype: float64\n"
     ]
    }
   ],
   "source": [
    "df_grouped = df.groupby(by='occupation')\n",
    "print (df_grouped.income.sum() / df_grouped.income.count())#percentage\n",
    "df_grouped = df.groupby(by='workclass')\n",
    "print (df_grouped.income.sum() / df_grouped.income.count())#percentage"
   ]
  },
  {
   "cell_type": "code",
   "execution_count": 14,
   "id": "c7511f60",
   "metadata": {},
   "outputs": [
    {
     "name": "stdout",
     "output_type": "stream",
     "text": [
      "Percentage of individuals with income greater than 50K in each group:\n",
      "race                sex   \n",
      "Amer-Indian-Eskimo  Female    10.280374\n",
      "                    Male      12.849162\n",
      "Asian-Pac-Islander  Female    13.945578\n",
      "                    Male      34.442596\n",
      "Black               Female     6.075768\n",
      "                    Male      19.816643\n",
      "Other               Female     4.597701\n",
      "                    Male      11.805556\n",
      "White               Female    12.298923\n",
      "                    Male      32.531323\n",
      "Name: income, dtype: float64\n"
     ]
    }
   ],
   "source": [
    "#calculating the percentage of each grouped category by race and sex\n",
    "df_grouped = df.groupby(by=['race','sex'])\n",
    "print (\"Percentage of individuals with income greater than 50K in each group:\")\n",
    "print (df_grouped.income.sum() / df_grouped.income.count() *100)"
   ]
  },
  {
   "cell_type": "code",
   "execution_count": 15,
   "id": "ef09c63c",
   "metadata": {},
   "outputs": [],
   "source": [
    "# this python magics will allow plot to be embedded into the notebook - code adapted from asynch 2 nb\n",
    "warnings.simplefilter('ignore', DeprecationWarning)\n",
    "%matplotlib inline"
   ]
  },
  {
   "cell_type": "code",
   "execution_count": 16,
   "id": "7d52874d",
   "metadata": {},
   "outputs": [
    {
     "data": {
      "image/png": "[encoded data removed]",
      "text/plain": [
       "<Figure size 432x288 with 1 Axes>"
      ]
     },
     "metadata": {},
     "output_type": "display_data"
    }
   ],
   "source": [
    "# Start by just plotting what we previsously grouped!\n",
    "plt.style.use('ggplot')\n",
    "\n",
    "df_grouped = df.groupby(by=['race','sex'])\n",
    "income_over50_rate = df_grouped.income.sum() / df_grouped.income.count()\n",
    "ax = income_over50_rate.plot(kind='barh')"
   ]
  },
  {
   "cell_type": "markdown",
   "id": "c3c3fe8e",
   "metadata": {},
   "source": [
    "**4. Visualize the most important attributes appropriately (at least 5 attributes). Important: Provide an interpretation for each chart. Explain for each attribute why the chosen visualization is appropriate.**\n",
    "\n",
    "7 attributes were identified as important in terms of identifying whether income is greater than or less than \\$50k.  The 7 important attributes are comprised of 3 numeric (Age, Education-Num Hours-per-week) and 4 categorical (Marital Status, Relationship, Race and Sex).  Each attribute will be visualized and explained below.\n",
    "\n",
    "**Numeric Attributes**\n",
    "\n",
    "Age: This age histrogram is subsetting for the reponse variable, income.  The histogram shows the right skew of the <\\$50k histogram and the relative normalcy of the >\\$50k historgram.  The initial visual separation the mean lend this attribute to additinal investigation. "
   ]
  },
  {
   "cell_type": "code",
   "execution_count": 65,
   "id": "118da9de",
   "metadata": {},
   "outputs": [
    {
     "data": {
      "text/plain": [
       "<seaborn.axisgrid.FacetGrid at 0x238969d7898>"
      ]
     },
     "execution_count": 65,
     "metadata": {},
     "output_type": "execute_result"
    },
    {
     "data": {
      "image/png": "[encoded data removed]",
      "text/plain": [
       "<Figure size 404.5x360 with 1 Axes>"
      ]
     },
     "metadata": {},
     "output_type": "display_data"
    }
   ],
   "source": [
    "\n",
    "sns.displot(df,x=\"age\",hue=\"income\")\n"
   ]
  },
  {
   "cell_type": "markdown",
   "id": "f74f080e",
   "metadata": {},
   "source": [
    "Education-Num:  This histogram demonstrates a very low number of occurrences for income >\\$50k prior to 9 years.  The ratios between greater than and less than \\$50k begin to flip as the numbers increase from 9.  This provides a visual seperation that should be investigated further."
   ]
  },
  {
   "cell_type": "code",
   "execution_count": 63,
   "id": "980a4efb",
   "metadata": {},
   "outputs": [
    {
     "data": {
      "text/plain": [
       "<seaborn.axisgrid.FacetGrid at 0x238955cb4a8>"
      ]
     },
     "execution_count": 63,
     "metadata": {},
     "output_type": "execute_result"
    },
    {
     "data": {
      "image/png": "[encoded data removed]",
      "text/plain": [
       "<Figure size 404.5x360 with 1 Axes>"
      ]
     },
     "metadata": {},
     "output_type": "display_data"
    }
   ],
   "source": [
    "sns.displot(df,x=\"education-num\", discrete=True,hue=\"income\")"
   ]
  },
  {
   "cell_type": "markdown",
   "id": "3df50a46",
   "metadata": {},
   "source": [
    "Hours-Per-Week: A Kernel density estimation plot was used to make the hours-per-week attribute more easily readable.  The choice becomes obvious when compared to the histogram below.  The histogram is quite difficult to read due to the high smapling rate at the 40 hours per week.  While the Kernel Denity does not provide an accurate count, it does help showcase the greater than \\$50k curve that is near zero prior to 40 hours per week adn then tapers to somewhere between 60 and 80 hours per week.  The ratio between geater than and less than \\$50k increases as the curve tapers to the right."
   ]
  },
  {
   "cell_type": "code",
   "execution_count": 66,
   "id": "1eadb8bc",
   "metadata": {},
   "outputs": [
    {
     "data": {
      "text/plain": [
       "<seaborn.axisgrid.FacetGrid at 0x23896ce45c0>"
      ]
     },
     "execution_count": 66,
     "metadata": {},
     "output_type": "execute_result"
    },
    {
     "data": {
      "image/png": "[encoded data removed]",
      "text/plain": [
       "<Figure size 404.5x360 with 1 Axes>"
      ]
     },
     "metadata": {},
     "output_type": "display_data"
    },
    {
     "data": {
      "image/png": "[encoded data removed]",
      "text/plain": [
       "<Figure size 404.5x360 with 1 Axes>"
      ]
     },
     "metadata": {},
     "output_type": "display_data"
    }
   ],
   "source": [
    "sns.displot(df,x=\"hours-per-week\",hue=\"income\", kind='kde')\n",
    "sns.displot(df,x=\"hours-per-week\",hue=\"income\")"
   ]
  },
  {
   "cell_type": "markdown",
   "id": "f3815810",
   "metadata": {},
   "source": [
    "**Categorical Attributes**\n",
    "\n",
    "Marital-Status: A proportional plot was used to for martial-status.  The propportional plot provides the percentage of responses that are greater than \\$50k (true) as opposed to less than \\$50k (false).  I've added a stacked bar chart with  count along side the proportional chart.  The stacked bar chart is helpful, but due to the size of one category, married-civ-spouse in this case, the other counts are almost invisible.  The proportion chart enables the observation of each category to understand it's impact on the response."
   ]
  },
  {
   "cell_type": "code",
   "execution_count": 68,
   "id": "29dfbdc9",
   "metadata": {},
   "outputs": [
    {
     "data": {
      "text/plain": [
       "<matplotlib.axes._subplots.AxesSubplot at 0x2388a383128>"
      ]
     },
     "execution_count": 68,
     "metadata": {},
     "output_type": "execute_result"
    },
    {
     "data": {
      "image/png": "[encoded data removed]",
      "text/plain": [
       "<Figure size 432x288 with 1 Axes>"
      ]
     },
     "metadata": {},
     "output_type": "display_data"
    },
    {
     "data": {
      "image/png": "[encoded data removed]",
      "text/plain": [
       "<Figure size 432x288 with 1 Axes>"
      ]
     },
     "metadata": {},
     "output_type": "display_data"
    }
   ],
   "source": [
    "\n",
    "income_marital = pd.crosstab([ df['marital-status'] ], df.income.astype(bool))\n",
    "marital_rate = income_marital.div(income_marital.sum(1).astype(float),axis=0)\n",
    "marital_rate.plot(kind='barh', stacked=True)\n",
    "\n",
    "income_marital.plot(kind='bar', stacked=True)\n"
   ]
  },
  {
   "cell_type": "markdown",
   "id": "72607b0d",
   "metadata": {},
   "source": [
    "Relationship: I have continue to leverage the proporation plot as the primary visualization for the categorical variables.  This plot shows a clear separation between Husband/Wife and the other categories.  The Husband and Wife category have more than 40\\% responses for greater than \\$50k.  While there is a potential for covariance, this attribute warrants further investgation."
   ]
  },
  {
   "cell_type": "code",
   "execution_count": 75,
   "id": "bd85054c",
   "metadata": {},
   "outputs": [
    {
     "data": {
      "text/plain": [
       "<matplotlib.axes._subplots.AxesSubplot at 0x2388f71ab70>"
      ]
     },
     "execution_count": 75,
     "metadata": {},
     "output_type": "execute_result"
    },
    {
     "data": {
      "image/png": "[encoded data removed]",
      "text/plain": [
       "<Figure size 432x288 with 1 Axes>"
      ]
     },
     "metadata": {},
     "output_type": "display_data"
    }
   ],
   "source": [
    "\n",
    "income_relationship = pd.crosstab([ df['relationship'] ], df.income.astype(bool))\n",
    "relationship_rate = income_relationship.div(income_relationship.sum(1).astype(float),axis=0)\n",
    "relationship_rate.plot(kind='barh', stacked=True)\n"
   ]
  },
  {
   "cell_type": "markdown",
   "id": "9215e939",
   "metadata": {},
   "source": [
    "Race: This proportion plot demonstrates that 25\\% to 30\\% of the White and Asian-Pac-Islander havea greater than \\$50k response.  This is large enough to warrant investigation and could be interesting when combined with other variables."
   ]
  },
  {
   "cell_type": "code",
   "execution_count": 76,
   "id": "329279ec",
   "metadata": {},
   "outputs": [
    {
     "data": {
      "text/plain": [
       "<matplotlib.axes._subplots.AxesSubplot at 0x2388d81ae48>"
      ]
     },
     "execution_count": 76,
     "metadata": {},
     "output_type": "execute_result"
    },
    {
     "data": {
      "image/png": "[encoded data removed]",
      "text/plain": [
       "<Figure size 432x288 with 1 Axes>"
      ]
     },
     "metadata": {},
     "output_type": "display_data"
    }
   ],
   "source": [
    "income_race = pd.crosstab([ df['race'] ], df.income.astype(bool))\n",
    "race_rate = income_race.div(income_race.sum(1).astype(float),axis=0)\n",
    "race_rate.plot(kind='barh', stacked=True)\n"
   ]
  },
  {
   "cell_type": "markdown",
   "id": "49f89af7",
   "metadata": {},
   "source": [
    "Sex: The proportion plot so an approximate difference of 20\\% between Male and Female for greater than \\$50k.  This visual distinction provides ample evidence to continue with treating Sex as an important attribute."
   ]
  },
  {
   "cell_type": "code",
   "execution_count": 77,
   "id": "5f031712",
   "metadata": {},
   "outputs": [
    {
     "data": {
      "text/plain": [
       "<matplotlib.axes._subplots.AxesSubplot at 0x2389373fba8>"
      ]
     },
     "execution_count": 77,
     "metadata": {},
     "output_type": "execute_result"
    },
    {
     "data": {
      "image/png": "[encoded data removed]",
      "text/plain": [
       "<Figure size 432x288 with 1 Axes>"
      ]
     },
     "metadata": {},
     "output_type": "display_data"
    }
   ],
   "source": [
    "income_sex = pd.crosstab([ df['sex'] ], df.income.astype(bool))\n",
    "sex_rate = income_sex.div(income_sex.sum(1).astype(float),axis=0)\n",
    "sex_rate.plot(kind='barh', stacked=True)"
   ]
  },
  {
   "cell_type": "markdown",
   "id": "3bbfc30e",
   "metadata": {},
   "source": [
    "**5. Explore relationships between attributes: Look at the attributes via scatter plots, correlation, cross-tabulation, group-wise averages, etc. as appropriate. Explain any interesting relationships.** "
   ]
  },
  {
   "cell_type": "code",
   "execution_count": null,
   "id": "2754185c",
   "metadata": {},
   "outputs": [],
   "source": []
  },
  {
   "cell_type": "markdown",
   "id": "04de7223",
   "metadata": {},
   "source": [
    "**6. Identify and explain interesting relationships between features and the class you are trying to predict (i.e., relationships with variables and the target classification).**"
   ]
  },
  {
   "cell_type": "code",
   "execution_count": null,
   "id": "e3781210",
   "metadata": {},
   "outputs": [],
   "source": []
  },
  {
   "cell_type": "markdown",
   "id": "d5bbe510",
   "metadata": {},
   "source": [
    "**7. Are there other features that could be added to the data or created from existing features? Which ones?**"
   ]
  },
  {
   "cell_type": "markdown",
   "id": "6879ca4b",
   "metadata": {},
   "source": []
  },
  {
   "cell_type": "markdown",
   "id": "07610767",
   "metadata": {},
   "source": [
    "**8. Exceptional Work, One idea: implement dimensionality reduction, then visualize and interpret the results.**"
   ]
  },
  {
   "cell_type": "code",
   "execution_count": 1,
   "id": "a51c5632",
   "metadata": {},
   "outputs": [
    {
     "name": "stdout",
     "output_type": "stream",
     "text": [
      "hello world\n"
     ]
    }
   ],
   "source": [
    "print(\"hello world\")"
   ]
  }
 ],
 "metadata": {
  "kernelspec": {
   "display_name": "Python 3 (ipykernel)",
   "language": "python",
   "name": "python3"
  },
  "language_info": {
   "codemirror_mode": {
    "name": "ipython",
    "version": 3
   },
   "file_extension": ".py",
   "mimetype": "text/x-python",
   "name": "python",
   "nbconvert_exporter": "python",
   "pygments_lexer": "ipython3",
   "version": "3.7.3"
  }
 },
 "nbformat": 4,
 "nbformat_minor": 5
}
