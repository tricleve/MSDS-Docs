{
 "cells": [
  {
   "cell_type": "markdown",
   "id": "6baab44a",
   "metadata": {},
   "source": [
    "# DS7331 Project 3\n",
    "#### Group 2: Hollie Gardner, Cleveland Johnson, Shelby Provost\n",
    "[Dataset Source](https://archive-beta.ics.uci.edu/ml/datasets/census+income)<br/>\n",
    "[Github Repo](https://github.com/ShelbyP27/DS7331-Project)"
   ]
  },
  {
   "cell_type": "markdown",
   "id": "6ae9caea",
   "metadata": {},
   "source": [
    "## Import Libraries"
   ]
  },
  {
   "cell_type": "code",
   "execution_count": 1,
   "id": "329f550a",
   "metadata": {},
   "outputs": [
    {
     "name": "stderr",
     "output_type": "stream",
     "text": [
      "/opt/anaconda3/lib/python3.8/site-packages/IPython/extensions/rmagic.py:11: UserWarning: The rmagic extension in IPython has moved to `rpy2.ipython`, please see `rpy2` documentation.\n",
      "  warnings.warn(\"The rmagic extension in IPython has moved to \"\n"
     ]
    }
   ],
   "source": [
    "#import libraries\n",
    "import pandas as pd\n",
    "import numpy as np\n",
    "import os\n",
    "import sklearn as sk\n",
    "\n",
    "# data visualization\n",
    "import matplotlib.pyplot as plt\n",
    "import seaborn as sns\n",
    "\n",
    "# data preprocessing \n",
    "from sklearn.preprocessing import StandardScaler\n",
    "from sklearn import preprocessing\n",
    "from sklearn.pipeline import Pipeline\n",
    "\n",
    "#prediction models\n",
    "from sklearn.svm import SVC\n",
    "from sklearn.model_selection import train_test_split\n",
    "from sklearn.metrics import accuracy_score\n",
    "from sklearn.linear_model import LogisticRegression\n",
    "from sklearn import metrics as mt\n",
    "from sklearn.neighbors import KNeighborsClassifier\n",
    "\n",
    "# association rules mining\n",
    "# https://mhahsler.github.io/arules/docs/python/arules_python.html\n",
    "from rpy2.robjects import pandas2ri\n",
    "pandas2ri.activate()\n",
    "\n",
    "import rpy2.robjects as ro\n",
    "from rpy2.robjects.packages import importr\n",
    "\n",
    "arules = importr(\"arules\")\n",
    "arulesViz = importr(\"arulesViz\")\n",
    "\n",
    "import time\n",
    "%matplotlib inline\n",
    "\n",
    "%load_ext rmagic\n",
    "%load_ext rpy2.ipython \n",
    "\n",
    "# cluster analysis\n",
    "from sklearn.cluster import KMeans\n",
    "from sklearn.neighbors import kneighbors_graph"
   ]
  },
  {
   "cell_type": "markdown",
   "id": "8481c964",
   "metadata": {},
   "source": [
    "## Data Preparation"
   ]
  },
  {
   "cell_type": "markdown",
   "id": "1cfa6180",
   "metadata": {},
   "source": [
    "### Loading and Prepping Data \n"
   ]
  },
  {
   "cell_type": "code",
   "execution_count": 2,
   "id": "2f225805",
   "metadata": {},
   "outputs": [
    {
     "data": {
      "text/html": [
       "<div>\n",
       "<style scoped>\n",
       "    .dataframe tbody tr th:only-of-type {\n",
       "        vertical-align: middle;\n",
       "    }\n",
       "\n",
       "    .dataframe tbody tr th {\n",
       "        vertical-align: top;\n",
       "    }\n",
       "\n",
       "    .dataframe thead th {\n",
       "        text-align: right;\n",
       "    }\n",
       "</style>\n",
       "<table border=\"1\" class=\"dataframe\">\n",
       "  <thead>\n",
       "    <tr style=\"text-align: right;\">\n",
       "      <th></th>\n",
       "      <th>age</th>\n",
       "      <th>workclass</th>\n",
       "      <th>fnlwgt</th>\n",
       "      <th>education</th>\n",
       "      <th>education-num</th>\n",
       "      <th>marital-status</th>\n",
       "      <th>occupation</th>\n",
       "      <th>relationship</th>\n",
       "      <th>race</th>\n",
       "      <th>sex</th>\n",
       "      <th>capital-gain</th>\n",
       "      <th>capital-loss</th>\n",
       "      <th>hours-per-week</th>\n",
       "      <th>native-country</th>\n",
       "      <th>income</th>\n",
       "    </tr>\n",
       "  </thead>\n",
       "  <tbody>\n",
       "    <tr>\n",
       "      <th>0</th>\n",
       "      <td>39</td>\n",
       "      <td>State-gov</td>\n",
       "      <td>77516</td>\n",
       "      <td>Bachelors</td>\n",
       "      <td>13</td>\n",
       "      <td>Never-married</td>\n",
       "      <td>Adm-clerical</td>\n",
       "      <td>Not-in-family</td>\n",
       "      <td>White</td>\n",
       "      <td>Male</td>\n",
       "      <td>2174</td>\n",
       "      <td>0</td>\n",
       "      <td>40</td>\n",
       "      <td>United-States</td>\n",
       "      <td>&lt;=50K</td>\n",
       "    </tr>\n",
       "    <tr>\n",
       "      <th>1</th>\n",
       "      <td>50</td>\n",
       "      <td>Self-emp-not-inc</td>\n",
       "      <td>83311</td>\n",
       "      <td>Bachelors</td>\n",
       "      <td>13</td>\n",
       "      <td>Married-civ-spouse</td>\n",
       "      <td>Exec-managerial</td>\n",
       "      <td>Husband</td>\n",
       "      <td>White</td>\n",
       "      <td>Male</td>\n",
       "      <td>0</td>\n",
       "      <td>0</td>\n",
       "      <td>13</td>\n",
       "      <td>United-States</td>\n",
       "      <td>&lt;=50K</td>\n",
       "    </tr>\n",
       "    <tr>\n",
       "      <th>2</th>\n",
       "      <td>38</td>\n",
       "      <td>Private</td>\n",
       "      <td>215646</td>\n",
       "      <td>HS-grad</td>\n",
       "      <td>9</td>\n",
       "      <td>Divorced</td>\n",
       "      <td>Handlers-cleaners</td>\n",
       "      <td>Not-in-family</td>\n",
       "      <td>White</td>\n",
       "      <td>Male</td>\n",
       "      <td>0</td>\n",
       "      <td>0</td>\n",
       "      <td>40</td>\n",
       "      <td>United-States</td>\n",
       "      <td>&lt;=50K</td>\n",
       "    </tr>\n",
       "    <tr>\n",
       "      <th>3</th>\n",
       "      <td>53</td>\n",
       "      <td>Private</td>\n",
       "      <td>234721</td>\n",
       "      <td>11th</td>\n",
       "      <td>7</td>\n",
       "      <td>Married-civ-spouse</td>\n",
       "      <td>Handlers-cleaners</td>\n",
       "      <td>Husband</td>\n",
       "      <td>Black</td>\n",
       "      <td>Male</td>\n",
       "      <td>0</td>\n",
       "      <td>0</td>\n",
       "      <td>40</td>\n",
       "      <td>United-States</td>\n",
       "      <td>&lt;=50K</td>\n",
       "    </tr>\n",
       "    <tr>\n",
       "      <th>4</th>\n",
       "      <td>28</td>\n",
       "      <td>Private</td>\n",
       "      <td>338409</td>\n",
       "      <td>Bachelors</td>\n",
       "      <td>13</td>\n",
       "      <td>Married-civ-spouse</td>\n",
       "      <td>Prof-specialty</td>\n",
       "      <td>Wife</td>\n",
       "      <td>Black</td>\n",
       "      <td>Female</td>\n",
       "      <td>0</td>\n",
       "      <td>0</td>\n",
       "      <td>40</td>\n",
       "      <td>Cuba</td>\n",
       "      <td>&lt;=50K</td>\n",
       "    </tr>\n",
       "  </tbody>\n",
       "</table>\n",
       "</div>"
      ],
      "text/plain": [
       "   age         workclass  fnlwgt  education  education-num  \\\n",
       "0   39         State-gov   77516  Bachelors             13   \n",
       "1   50  Self-emp-not-inc   83311  Bachelors             13   \n",
       "2   38           Private  215646    HS-grad              9   \n",
       "3   53           Private  234721       11th              7   \n",
       "4   28           Private  338409  Bachelors             13   \n",
       "\n",
       "       marital-status         occupation   relationship   race     sex  \\\n",
       "0       Never-married       Adm-clerical  Not-in-family  White    Male   \n",
       "1  Married-civ-spouse    Exec-managerial        Husband  White    Male   \n",
       "2            Divorced  Handlers-cleaners  Not-in-family  White    Male   \n",
       "3  Married-civ-spouse  Handlers-cleaners        Husband  Black    Male   \n",
       "4  Married-civ-spouse     Prof-specialty           Wife  Black  Female   \n",
       "\n",
       "   capital-gain  capital-loss  hours-per-week native-country income  \n",
       "0          2174             0              40  United-States  <=50K  \n",
       "1             0             0              13  United-States  <=50K  \n",
       "2             0             0              40  United-States  <=50K  \n",
       "3             0             0              40  United-States  <=50K  \n",
       "4             0             0              40           Cuba  <=50K  "
      ]
     },
     "execution_count": 2,
     "metadata": {},
     "output_type": "execute_result"
    }
   ],
   "source": [
    "# Importing the census dataset using pandas\n",
    "# Reading the CSV file after converting file to csv and removing superfluous spaces via Excel.\n",
    "df = pd.read_csv('https://raw.githubusercontent.com/ShelbyP27/DS7331-Project/main/adult-data.csv')\n",
    "df.head()\n"
   ]
  },
  {
   "cell_type": "code",
   "execution_count": 3,
   "id": "1faf4f91",
   "metadata": {},
   "outputs": [],
   "source": [
    "#Cleaning up dataset by removing na values & creating one-hot response\n",
    "df = df.replace(to_replace='?',value=np.nan) # replace '?' with NaN (not a number)\n",
    "df.dropna(inplace=True) # Removing na values\n",
    "df.duplicated(subset=None, keep='first') #Remove duplicates\n",
    "\n",
    "#change value for income to include non-mathematic notation\n",
    "df['income'] = df['income'].replace(['<=50K'],'under50K')\n",
    "df['income'] = df['income'].replace(['>50K'],'over50K')\n"
   ]
  },
  {
   "cell_type": "code",
   "execution_count": 4,
   "id": "549c4167",
   "metadata": {},
   "outputs": [],
   "source": [
    "#remove attributes\n",
    "del df['education-num']\n",
    "del df['fnlwgt']\n",
    "del df['capital-gain']\n",
    "del df['capital-loss']\n",
    "\n",
    "#create categorical groups out of continuous\n",
    "#change age to age_group\n",
    "age_group = pd.cut(df.age,bins=[12,19,34,65,120], labels=['teenager','early adult','adult','older adult'])\n",
    "df.insert(2,'agegroup',age_group)\n",
    "del df['age']\n",
    "\n",
    "#change hours-per-week to \n",
    "hours_group = pd.cut(df['hours-per-week'], bins=[0,30,40,168], labels=['part-time','full-time','over-time'])\n",
    "df.insert(9,'hoursgroup',hours_group)\n",
    "del df['hours-per-week']\n",
    "\n"
   ]
  },
  {
   "cell_type": "markdown",
   "id": "bbba164d",
   "metadata": {},
   "source": [
    "## Business Understanding\n",
    "*Describe the purpose of the data set you selected (i.e., why was this data collected in the first place?). How will you measure the effectiveness of a good algorithm? Why does your chosen validation method make sense for this specific dataset and the stakeholders needs?*\n",
    "\n",
    "The purpose of the dataset selected is to identify what characteristics an individual needs to possess in order to make an income exceeding $50,000. Since we've chosen to analyze using association rule mining, then measurements of effectiveness will be lift and [insert here] when we filter to our question of interest of whether income is greater or less than $50k is on the right hand side. The algorithm must also not be a burden computational, therefore we will adjust our confidence and support requirements. The length of itemlists on the left-hand-side will ideally be greater than 1. \n",
    "\n",
    "We have chosen to use the association rule mining by treating each individual and their characteristics as a transaction. The \"item lists\", or characteristics of the individuals within this dataset, will hopefully accomplish the task of understanding what are the most important characteristics that determine whether someone in the 1990s United States would have had an income that exceed $50k. With association rule mining, we understand that there is no implication of causality, but instead this characteristics co-occur. Even still, knowing this information could assist in targeted support for families that had less than $50k and figuring out what interventions could be used to bring families out of poverty levels and into liveable income. \n",
    "\n",
    "\n"
   ]
  },
  {
   "cell_type": "markdown",
   "id": "9b15d4d5",
   "metadata": {},
   "source": [
    "## Data Understanding\n",
    "### Part One\n",
    "*Describe the meaning and type of data (scale, values, etc.) for each attribute in the data file. Verify data quality: Are there missing values? Duplicate data? Outliers? Are those mistakes? How do you deal with these problems?*\n",
    "\n",
    "The final dataset that will be used for the association rule minging of individuals with an income greater than 50k includes the following 10 attributes: "
   ]
  },
  {
   "cell_type": "code",
   "execution_count": 5,
   "id": "d72bea51",
   "metadata": {},
   "outputs": [
    {
     "name": "stdout",
     "output_type": "stream",
     "text": [
      "<class 'pandas.core.frame.DataFrame'>\n",
      "Int64Index: 30162 entries, 0 to 32560\n",
      "Data columns (total 11 columns):\n",
      " #   Column          Non-Null Count  Dtype   \n",
      "---  ------          --------------  -----   \n",
      " 0   workclass       30162 non-null  object  \n",
      " 1   agegroup        30162 non-null  category\n",
      " 2   education       30162 non-null  object  \n",
      " 3   marital-status  30162 non-null  object  \n",
      " 4   occupation      30162 non-null  object  \n",
      " 5   relationship    30162 non-null  object  \n",
      " 6   race            30162 non-null  object  \n",
      " 7   sex             30162 non-null  object  \n",
      " 8   hoursgroup      30162 non-null  category\n",
      " 9   native-country  30162 non-null  object  \n",
      " 10  income          30162 non-null  object  \n",
      "dtypes: category(2), object(9)\n",
      "memory usage: 2.4+ MB\n"
     ]
    }
   ],
   "source": [
    "df.info()"
   ]
  },
  {
   "cell_type": "markdown",
   "id": "6311fa62",
   "metadata": {},
   "source": [
    "All of the continuous variables have either been removed or converted into categorical groups for easier identification in the transaction lists. \n",
    "\n",
    "According to the Kohavi and Becker, the following changes have already been made to the raw data:\n",
    "* Discretized agrossincome into two ranges with threshold 50,000.\n",
    "* Convert U.S. to US to avoid periods.\n",
    "* Convert Unknown to \"?\"\n",
    "* Run MLC++ GenCVFiles to generate data,test.\n",
    "<br>\n",
    "\n",
    "Therefore, we began by looking for the '?' values in the dataset by counting the number in each column. Then, we replaced as null using numpy. We decided to handle missing values in the following three variables which possessed missing values as below: \n",
    "\n",
    "* Workclass: 1836 rows\n",
    "* Occupation: 1843 rows\n",
    "* Native-Country: 583 rows\n",
    "\n",
    "There was not a way to impute values for these categorical variables and leaving as unknown variables does not add value to our analysis. Therefore, these rows were removed leaving us with 30,162 complete rows in this dataframe. As for duplicates, Kohavi and Becker described 6 duplicate rows. After reviewing our current dataframe, there do not appear to be any instances of duplicate data.\n"
   ]
  },
  {
   "cell_type": "markdown",
   "id": "bc39b84e",
   "metadata": {},
   "source": [
    "### Part Two\n",
    "*Visualize the any important attributes appropriately. Important: Provide an interpretation for any charts or graphs.*\n",
    "\n",
    "Initial visual assessment led us to identify 7 attributes that could be important in terms of identifying whether income is greater than or less than $50k. The 7 attributes were comprised of 3 numeric (Age, Education-Num, Hours-per-week) and 4 categorical (Marital Status, Relationship, Race and Sex). Further analysis, with the use of one-hot-coded predictor variables, provided further insight into the variables that are important in predicting whether income is greater than or less that \\$50k. An initial logistic regression model proposed the following variables as important features: Age, Hours-per-week, Capital Loss, Education-Num, Marital-Never-married, Marital-married-civ-spouse, Work-private, Rel-husband, Capital Gain, and Rel-not-in-family. A simplified logistic regression model proposed these variables as important features: Age, Capital Loss, and Marital-married-civ-spouse.\n",
    "\n",
    "While Race and Sex had visual differences in whether income was greater than or less than \\$50k and each of them are visulaized below."
   ]
  },
  {
   "cell_type": "markdown",
   "id": "9f769abf",
   "metadata": {},
   "source": [
    "**Age:** This age histrogram is subsetting for the reponse variable, income. The histogram shows the right skew of the \\<=$50k histogram and the relative normalcy of the \\>$50k historgram. The initial logistic regression found that if the age of an individual increases by one unit, the esimated odds of having an income greater than \\$50k change by a factor of 0.99. In other words, the odds decrease by 1%."
   ]
  },
  {
   "cell_type": "code",
   "execution_count": 6,
   "id": "12c3bc7c",
   "metadata": {},
   "outputs": [],
   "source": [
    "#Making a new dataframe for graphical purposes\n",
    "df_graph = pd.read_csv('https://raw.githubusercontent.com/ShelbyP27/DS7331-Project/main/adult-data.csv')\n",
    "\n",
    "#Cleaning up dataset by removing na values & creating one-hot response\n",
    "df_graph = df_graph.replace(to_replace='?',value=np.nan) # replace '?' with NaN (not a number)\n",
    "df_graph.dropna(inplace=True) # Removing na values\n",
    "df_graph.duplicated(subset=None, keep='first') #Remove duplicates\n",
    "\n",
    "#change value for income to include non-mathematic notation\n",
    "df_graph['income'] = df_graph['income'].replace(['<=50K'],'under50K')\n",
    "df_graph['income'] = df_graph['income'].replace(['>50K'],'over50K')\n",
    "df_graph['income'] = df_graph['income'].map({'under50K': 0, 'over50K': 1}).astype(int)\n",
    "\n",
    "#remove attributes\n",
    "del df_graph['education-num']\n",
    "del df_graph['fnlwgt']\n",
    "del df_graph['capital-gain']\n",
    "del df_graph['capital-loss']\n",
    "\n",
    "#create categorical groups out of continuous\n",
    "#change age to age_group\n",
    "age_group = pd.cut(df_graph.age,bins=[12,19,34,65,120], labels=['teenager','early adult','adult','older adult'])\n",
    "df_graph.insert(2,'agegroup',age_group)\n",
    "\n",
    "\n",
    "#change hours-per-week to \n",
    "hours_group = pd.cut(df_graph['hours-per-week'], bins=[0,30,40,168], labels=['part-time','full-time','over-time'])\n",
    "df_graph.insert(9,'hoursgroup',hours_group)\n",
    "\n"
   ]
  },
  {
   "cell_type": "code",
   "execution_count": 7,
   "id": "1e213b28",
   "metadata": {},
   "outputs": [
    {
     "data": {
      "text/plain": [
       "<seaborn.axisgrid.FacetGrid at 0x106fd1a00>"
      ]
     },
     "execution_count": 7,
     "metadata": {},
     "output_type": "execute_result"
    },
    {
     "data": {
      "image/png": "[encoded data removed]",
      "text/plain": [
       "<Figure size 404.5x360 with 1 Axes>"
      ]
     },
     "metadata": {
      "needs_background": "light"
     },
     "output_type": "display_data"
    }
   ],
   "source": [
    "sns.displot(df_graph,x=\"agegroup\",hue=\"income\")"
   ]
  },
  {
   "cell_type": "markdown",
   "id": "17ec6fcf",
   "metadata": {},
   "source": [
    "**Education-Num:** This histogram demonstrates a very low number of occurrences for income \\>$50k prior to 9 years. The ratios between greater than and less than \\$50k begin to flip as the numbers increase from 9."
   ]
  },
  {
   "cell_type": "code",
   "execution_count": 8,
   "id": "51dba334",
   "metadata": {},
   "outputs": [
    {
     "data": {
      "text/plain": [
       "<seaborn.axisgrid.FacetGrid at 0x10547d400>"
      ]
     },
     "execution_count": 8,
     "metadata": {},
     "output_type": "execute_result"
    },
    {
     "data": {
      "image/png": "[encoded data removed]",
      "text/plain": [
       "<Figure size 404.5x360 with 1 Axes>"
      ]
     },
     "metadata": {
      "needs_background": "light"
     },
     "output_type": "display_data"
    }
   ],
   "source": [
    "sns.displot(df_graph,x=\"education\", discrete=True,hue=\"income\")"
   ]
  },
  {
   "cell_type": "markdown",
   "id": "f41f0222",
   "metadata": {},
   "source": [
    "**Hours-Per-Week:** A Kernel density estimation plot was used to make the hours-per-week attribute more easily readable. The choice becomes obvious when compared to the histogram below. The histogram is quite difficult to read due to the high smapling rate at the 40 hours per week. While the Kernel Denity does not provide an accurate count, it does help showcase the greater than \\$50k curve that is near zero prior to 40 hours per week adn then tapers to somewhere between 60 and 80 hours per week. The ratio between geater than and less than \\$50k increases as the curve tapers to the right."
   ]
  },
  {
   "cell_type": "code",
   "execution_count": 9,
   "id": "5472acae",
   "metadata": {},
   "outputs": [
    {
     "data": {
      "text/plain": [
       "<seaborn.axisgrid.FacetGrid at 0x120487ca0>"
      ]
     },
     "execution_count": 9,
     "metadata": {},
     "output_type": "execute_result"
    },
    {
     "data": {
      "image/png": "[encoded data removed]",
      "text/plain": [
       "<Figure size 404.5x360 with 1 Axes>"
      ]
     },
     "metadata": {
      "needs_background": "light"
     },
     "output_type": "display_data"
    },
    {
     "data": {
      "image/png": "[encoded data removed]",
      "text/plain": [
       "<Figure size 404.5x360 with 1 Axes>"
      ]
     },
     "metadata": {
      "needs_background": "light"
     },
     "output_type": "display_data"
    }
   ],
   "source": [
    "sns.displot(df_graph,x=\"hours-per-week\",hue=\"income\", kind='kde')\n",
    "sns.displot(df_graph,x=\"hours-per-week\",hue=\"income\")"
   ]
  },
  {
   "cell_type": "markdown",
   "id": "f02fd4f1",
   "metadata": {},
   "source": [
    "**Marital-Status:** A proportional plot was used to for martial-status. The propportional plot provides the percentage of responses that are greater than \\$50k (true) as opposed to less than \\$50k (false). We've added a stacked bar chart with count along side the proportional chart. The stacked bar chart is helpful, but due to the size of one category, married-civ-spouse in this case, the other counts are almost invisible. The proportion chart enables the observation of each category to understand it's impact on the response. The initial logistic regression found that if a person is a married civilian spouse, the estimated odds of having an income greater than \\$50k is .03% higher than someone who is not a married civilian spouse."
   ]
  },
  {
   "cell_type": "code",
   "execution_count": 10,
   "id": "ddbeacaf",
   "metadata": {},
   "outputs": [
    {
     "data": {
      "text/plain": [
       "<AxesSubplot:xlabel='marital-status'>"
      ]
     },
     "execution_count": 10,
     "metadata": {},
     "output_type": "execute_result"
    },
    {
     "data": {
      "image/png": "[encoded data removed]",
      "text/plain": [
       "<Figure size 432x288 with 1 Axes>"
      ]
     },
     "metadata": {
      "needs_background": "light"
     },
     "output_type": "display_data"
    },
    {
     "data": {
      "image/png": "[encoded data removed]",
      "text/plain": [
       "<Figure size 432x288 with 1 Axes>"
      ]
     },
     "metadata": {
      "needs_background": "light"
     },
     "output_type": "display_data"
    }
   ],
   "source": [
    "income_marital = pd.crosstab([df_graph['marital-status'] ], df_graph.income.astype(bool))\n",
    "marital_rate = income_marital.div(income_marital.sum(1).astype(float),axis=0)\n",
    "marital_rate.plot(kind='barh', stacked=True)\n",
    "\n",
    "income_marital.plot(kind='bar', stacked=True)"
   ]
  },
  {
   "cell_type": "markdown",
   "id": "f7d33afe",
   "metadata": {},
   "source": [
    "**Relationship:** Continuing to leverage the proporation plot for the categorical variables, this plot shows a clear separation between Husband/Wife and the other categories. The Husband and Wife category have more than 40\\% responses for greater than \\$50k."
   ]
  },
  {
   "cell_type": "code",
   "execution_count": 11,
   "id": "fb61208b",
   "metadata": {},
   "outputs": [
    {
     "data": {
      "text/plain": [
       "<AxesSubplot:ylabel='relationship'>"
      ]
     },
     "execution_count": 11,
     "metadata": {},
     "output_type": "execute_result"
    },
    {
     "data": {
      "image/png": "[encoded data removed]",
      "text/plain": [
       "<Figure size 432x288 with 1 Axes>"
      ]
     },
     "metadata": {
      "needs_background": "light"
     },
     "output_type": "display_data"
    }
   ],
   "source": [
    "income_relationship = pd.crosstab([df_graph['relationship'] ], df_graph.income.astype(bool))\n",
    "relationship_rate = income_relationship.div(income_relationship.sum(1).astype(float),axis=0)\n",
    "relationship_rate.plot(kind='barh', stacked=True)"
   ]
  },
  {
   "cell_type": "markdown",
   "id": "eaeb422b",
   "metadata": {},
   "source": [
    "## Modeling and Evaluation\n",
    "*Different tasks will require different evaluation methods. Be as thorough as possible when analyzing the data you have chosen and use visualizations of the results to explain the performance and expected outcomes whenever possible. Guide the reader through your analysis with plenty of discussion of the results.*\n",
    " "
   ]
  },
  {
   "cell_type": "markdown",
   "id": "9a771cda",
   "metadata": {},
   "source": [
    "### Association Rule Mining\n",
    " - Create frequent itemsets and association rules.\n",
    " - Use tables/visualization to discuss the found results.\n",
    " - Use several measure for evaluating how interesting different rules are.\n",
    " - Describe your results. What findings are the most compelling and why? "
   ]
  },
  {
   "cell_type": "markdown",
   "id": "11411f41",
   "metadata": {},
   "source": [
    "#### Step One\n",
    "We begin with a brute force approach to get an initial impression of our dataset. The support is initially set at .5 and confidence at .8 to explore relationships within the dataframe. The maxlen is initially set at 10 to reduce computational load, since this approach can be computationally intensive. "
   ]
  },
  {
   "cell_type": "code",
   "execution_count": 12,
   "id": "5aaaabda",
   "metadata": {},
   "outputs": [
    {
     "name": "stdout",
     "output_type": "stream",
     "text": [
      "Apriori\n",
      "\n",
      "Parameter specification:\n",
      " confidence minval smax arem  aval originalSupport maxtime support minlen\n",
      "        0.8    0.1    1 none FALSE            TRUE       5     0.5      2\n",
      " maxlen target  ext\n",
      "     10  rules TRUE\n",
      "\n",
      "Algorithmic control:\n",
      " filter tree heap memopt load sort verbose\n",
      "    0.1 TRUE TRUE  FALSE TRUE    2    TRUE\n",
      "\n",
      "Absolute minimum support count: 15081 \n",
      "\n",
      "set item appearances ...[0 item(s)] done [0.00s].\n",
      "set transactions ...[107 item(s), 30162 transaction(s)] done [0.04s].\n",
      "sorting and recoding items ... [7 item(s)] done [0.00s].\n",
      "creating transaction tree ... done [0.01s].\n",
      "checking subsets of size 1 2 3 done [0.00s].\n",
      "writing ... [15 rule(s)] done [0.00s].\n",
      "creating S4 object  ... done [0.01s].\n"
     ]
    },
    {
     "data": {
      "text/plain": [
       "<rpy2.robjects.methods.RS4 object at 0x12113dac0> [RTYPES.S4SXP]\n",
       "R classes: ('rules',)"
      ]
     },
     "execution_count": 12,
     "metadata": {},
     "output_type": "execute_result"
    }
   ],
   "source": [
    "# run apriori on dataframe\n",
    "%R -i df rules <- apriori(df,parameter = list(minlen=2, maxlen=10, supp=0.5, conf=0.8))"
   ]
  },
  {
   "cell_type": "markdown",
   "id": "4bd25e31",
   "metadata": {},
   "source": [
    "#### Step Two\n",
    "Next we will look at the itemsets and rules to see how they rank by lift given the parameters that we have assigned. Lift is the predicted rate divided by the average rate. "
   ]
  },
  {
   "cell_type": "code",
   "execution_count": 13,
   "id": "c93d7f41",
   "metadata": {},
   "outputs": [
    {
     "name": "stdout",
     "output_type": "stream",
     "text": [
      "     lhs                                rhs                              support confidence  coverage      lift count\n",
      "[1]  {sex=Male,                                                                                                      \n",
      "      native-country=United-States}  => {race=White}                   0.5585836  0.9071721 0.6157417 1.0551083 16848\n",
      "[2]  {sex=Male}                      => {race=White}                   0.5980373  0.8850834 0.6756846 1.0294176 18038\n",
      "[3]  {race=White,                                                                                                    \n",
      "      sex=Male}                      => {native-country=United-States} 0.5585836  0.9340282 0.5980373 1.0242931 16848\n",
      "[4]  {race=White}                    => {native-country=United-States} 0.8029308  0.9338680 0.8597905 1.0241175 24218\n",
      "[5]  {native-country=United-States}  => {race=White}                   0.8029308  0.8805265 0.9118759 1.0241175 24218\n",
      "[6]  {workclass=Private,                                                                                             \n",
      "      native-country=United-States}  => {race=White}                   0.5877594  0.8804569 0.6675618 1.0240366 17728\n",
      "[7]  {workclass=Private,                                                                                             \n",
      "      race=White}                    => {native-country=United-States} 0.5877594  0.9263730 0.6344738 1.0158981 17728\n",
      "[8]  {race=White,                                                                                                    \n",
      "      income=under50K}               => {native-country=United-States} 0.5861349  0.9258930 0.6330482 1.0153717 17679\n",
      "[9]  {native-country=United-States,                                                                                  \n",
      "      income=under50K}               => {race=White}                   0.5861349  0.8620118 0.6799615 1.0025836 17679\n",
      "[10] {sex=Male}                      => {native-country=United-States} 0.6157417  0.9112856 0.6756846 0.9993527 18572\n",
      "[11] {workclass=Private}             => {race=White}                   0.6344738  0.8587005 0.7388767 0.9987323 19137\n",
      "[12] {income=under50K}               => {native-country=United-States} 0.6799615  0.9053147 0.7510775 0.9928048 20509\n",
      "[13] {workclass=Private}             => {native-country=United-States} 0.6675618  0.9034820 0.7388767 0.9907949 20135\n",
      "[14] {workclass=Private,                                                                                             \n",
      "      income=under50K}               => {native-country=United-States} 0.5170082  0.8956921 0.5772164 0.9822523 15594\n",
      "[15] {income=under50K}               => {race=White}                   0.6330482  0.8428534 0.7510775 0.9803009 19094\n"
     ]
    }
   ],
   "source": [
    "#looking at the top rules\n",
    "%R inspect(head(rules, n = 100, by = \"lift\"))"
   ]
  },
  {
   "cell_type": "markdown",
   "id": "d224525d",
   "metadata": {},
   "source": [
    "From this we see that there are only 15 rules that were produced using these initial parameters. We see those 15 rules ordered by the highest to lowest lift. These rules seem to highlight the large number of 'sex=Males', 'race=White', or 'native-country=United-States' are represented in this dataset. \n",
    "\n",
    "#### Step Three\n",
    "Next we will expand our parameters to be more inclusive, since this iteration does not address our question of interest. After reviewing the list of rules above, we have decided to begin with lowering the confidence to .5 from .8 and the support to .1 from .5. This will allow for more opportunities for income to show up on the right hand side in our rules list since we are lowering the threshold of the frequency these items need to appear in the 'transactions' before being included in our rules list. \n"
   ]
  },
  {
   "cell_type": "code",
   "execution_count": 14,
   "id": "5aaaabda",
   "metadata": {},
   "outputs": [
    {
     "name": "stdout",
     "output_type": "stream",
     "text": [
      "Apriori\n",
      "\n",
      "Parameter specification:\n",
      " confidence minval smax arem  aval originalSupport maxtime support minlen\n",
      "        0.5    0.1    1 none FALSE            TRUE       5     0.1      1\n",
      " maxlen target  ext\n",
      "     10  rules TRUE\n",
      "\n",
      "Algorithmic control:\n",
      " filter tree heap memopt load sort verbose\n",
      "    0.1 TRUE TRUE  FALSE TRUE    2    TRUE\n",
      "\n",
      "Absolute minimum support count: 3016 \n",
      "\n",
      "set item appearances ...[0 item(s)] done [0.00s].\n",
      "set transactions ...[107 item(s), 30162 transaction(s)] done [0.04s].\n",
      "sorting and recoding items ... [28 item(s)] done [0.01s].\n",
      "creating transaction tree ... done [0.02s].\n",
      "checking subsets of size 1 2 3 4 5 6 7 done [0.04s].\n",
      "writing ... [3293 rule(s)] done [0.00s].\n",
      "creating S4 object  ... done [0.01s].\n",
      "     lhs                                     rhs                              support confidence  coverage     lift count\n",
      "[1]  {workclass=Private,                                                                                                 \n",
      "      relationship=Own-child,                                                                                            \n",
      "      native-country=United-States,                                                                                      \n",
      "      income=under50K}                    => {marital-status=Never-married} 0.1046681  0.8943343 0.1170347 2.773485  3157\n",
      "[2]  {relationship=Own-child,                                                                                            \n",
      "      race=White,                                                                                                        \n",
      "      native-country=United-States,                                                                                      \n",
      "      income=under50K}                    => {marital-status=Never-married} 0.1046018  0.8922511 0.1172336 2.767024  3155\n",
      "[3]  {workclass=Private,                                                                                                 \n",
      "      relationship=Own-child,                                                                                            \n",
      "      income=under50K}                    => {marital-status=Never-married} 0.1113653  0.8909814 0.1249917 2.763087  3359\n",
      "[4]  {workclass=Private,                                                                                                 \n",
      "      relationship=Own-child,                                                                                            \n",
      "      native-country=United-States}       => {marital-status=Never-married} 0.1053644  0.8896976 0.1184272 2.759106  3178\n",
      "[5]  {relationship=Own-child,                                                                                            \n",
      "      race=White,                                                                                                        \n",
      "      income=under50K}                    => {marital-status=Never-married} 0.1093429  0.8894283 0.1229361 2.758270  3298\n",
      "[6]  {relationship=Own-child,                                                                                            \n",
      "      native-country=United-States,                                                                                      \n",
      "      income=under50K}                    => {marital-status=Never-married} 0.1216100  0.8885659 0.1368610 2.755596  3668\n",
      "[7]  {workclass=Private,                                                                                                 \n",
      "      relationship=Own-child}             => {marital-status=Never-married} 0.1121610  0.8865304 0.1265168 2.749283  3383\n",
      "[8]  {relationship=Own-child,                                                                                            \n",
      "      race=White,                                                                                                        \n",
      "      native-country=United-States}       => {marital-status=Never-married} 0.1055301  0.8863826 0.1190571 2.748825  3183\n",
      "[9]  {relationship=Own-child,                                                                                            \n",
      "      income=under50K}                    => {marital-status=Never-married} 0.1291692  0.8850522 0.1459452 2.744699  3896\n",
      "[10] {relationship=Own-child,                                                                                            \n",
      "      race=White}                         => {marital-status=Never-married} 0.1103044  0.8836653 0.1248259 2.740398  3327\n",
      "[11] {relationship=Own-child,                                                                                            \n",
      "      native-country=United-States}       => {marital-status=Never-married} 0.1225714  0.8831820 0.1387839 2.738900  3697\n",
      "[12] {relationship=Own-child}             => {marital-status=Never-married} 0.1302632  0.8797582 0.1480671 2.728282  3929\n",
      "[13] {agegroup=adult,                                                                                                    \n",
      "      marital-status=Married-civ-spouse,                                                                                 \n",
      "      race=White,                                                                                                        \n",
      "      sex=Male,                                                                                                          \n",
      "      income=over50K}                     => {relationship=Husband}         0.1389497  0.9976196 0.1392812 2.414363  4191\n",
      "[14] {agegroup=adult,                                                                                                    \n",
      "      marital-status=Married-civ-spouse,                                                                                 \n",
      "      race=White,                                                                                                        \n",
      "      sex=Male,                                                                                                          \n",
      "      native-country=United-States,                                                                                      \n",
      "      income=over50K}                     => {relationship=Husband}         0.1334792  0.9975223 0.1338108 2.414127  4026\n",
      "[15] {agegroup=adult,                                                                                                    \n",
      "      marital-status=Married-civ-spouse,                                                                                 \n",
      "      race=White,                                                                                                        \n",
      "      sex=Male,                                                                                                          \n",
      "      hoursgroup=over-time,                                                                                              \n",
      "      native-country=United-States}       => {relationship=Husband}         0.1162390  0.9974395 0.1165374 2.413927  3506\n"
     ]
    }
   ],
   "source": [
    "# run apriori on dataframe\n",
    "%R -i df rules <- apriori(df,parameter = list(minlen=1, supp=0.1, conf=0.5))\n",
    "\n",
    "#looking at the top 100 rules\n",
    "%R inspect(head(rules, n = 15, by = \"lift\"))"
   ]
  },
  {
   "cell_type": "markdown",
   "id": "c997df00",
   "metadata": {},
   "source": [
    "#### Step Four\n",
    "\n",
    "We are still getting rules that do not address our question of interest. Therefore, we will begin filtering with the income attribute values on the rhs. "
   ]
  },
  {
   "cell_type": "code",
   "execution_count": 15,
   "id": "08befd2c",
   "metadata": {},
   "outputs": [
    {
     "name": "stdout",
     "output_type": "stream",
     "text": [
      "Apriori\n",
      "\n",
      "Parameter specification:\n",
      " confidence minval smax arem  aval originalSupport maxtime support minlen\n",
      "       0.05    0.1    1 none FALSE            TRUE       5    0.05      2\n",
      " maxlen target  ext\n",
      "     10  rules TRUE\n",
      "\n",
      "Algorithmic control:\n",
      " filter tree heap memopt load sort verbose\n",
      "    0.1 TRUE TRUE  FALSE TRUE    2    TRUE\n",
      "\n",
      "Absolute minimum support count: 1508 \n",
      "\n",
      "set item appearances ...[2 item(s)] done [0.00s].\n",
      "set transactions ...[107 item(s), 30162 transaction(s)] done [0.03s].\n",
      "sorting and recoding items ... [34 item(s)] done [0.01s].\n",
      "creating transaction tree ... done [0.02s].\n",
      "checking subsets of size 1 2 3 4 5 6 7 8 done [0.07s].\n",
      "writing ... [1550 rule(s)] done [0.00s].\n",
      "creating S4 object  ... done [0.01s].\n",
      "    lhs                               rhs               support    confidence\n",
      "[1] {occupation=Machine-op-inspct} => {income=under50K} 0.05705855 0.8753815 \n",
      "[2] {workclass=Self-emp-not-inc}   => {income=under50K} 0.05918043 0.7142857 \n",
      "[3] {race=Black}                   => {income=under50K} 0.08126119 0.8700745 \n",
      "[4] {relationship=Unmarried}       => {income=under50K} 0.09942975 0.9336862 \n",
      "[5] {occupation=Other-service}     => {income=under50K} 0.10211524 0.9589041 \n",
      "[6] {occupation=Sales}             => {income=under50K} 0.08666534 0.7293527 \n",
      "    coverage   lift      count\n",
      "[1] 0.06518135 1.1655009 1721 \n",
      "[2] 0.08285260 0.9510146 1785 \n",
      "[3] 0.09339566 1.1584351 2451 \n",
      "[4] 0.10649161 1.2431289 2999 \n",
      "[5] 0.10649161 1.2767046 3080 \n",
      "[6] 0.11882501 0.9710751 2614 \n"
     ]
    },
    {
     "data": {
      "text/html": [
       "<div>\n",
       "<style scoped>\n",
       "    .dataframe tbody tr th:only-of-type {\n",
       "        vertical-align: middle;\n",
       "    }\n",
       "\n",
       "    .dataframe tbody tr th {\n",
       "        vertical-align: top;\n",
       "    }\n",
       "\n",
       "    .dataframe thead th {\n",
       "        text-align: right;\n",
       "    }\n",
       "</style>\n",
       "<table border=\"1\" class=\"dataframe\">\n",
       "  <thead>\n",
       "    <tr style=\"text-align: right;\">\n",
       "      <th></th>\n",
       "      <th>lhs</th>\n",
       "      <th></th>\n",
       "      <th>rhs</th>\n",
       "      <th>support</th>\n",
       "      <th>confidence</th>\n",
       "      <th>coverage</th>\n",
       "      <th>lift</th>\n",
       "      <th>count</th>\n",
       "    </tr>\n",
       "  </thead>\n",
       "  <tbody>\n",
       "    <tr>\n",
       "      <th>[1]</th>\n",
       "      <td>{occupation=Machine-op-inspct}</td>\n",
       "      <td>=&gt;</td>\n",
       "      <td>{income=under50K}</td>\n",
       "      <td>0.057059</td>\n",
       "      <td>0.875381</td>\n",
       "      <td>0.065181</td>\n",
       "      <td>1.165501</td>\n",
       "      <td>1721</td>\n",
       "    </tr>\n",
       "    <tr>\n",
       "      <th>[2]</th>\n",
       "      <td>{workclass=Self-emp-not-inc}</td>\n",
       "      <td>=&gt;</td>\n",
       "      <td>{income=under50K}</td>\n",
       "      <td>0.059180</td>\n",
       "      <td>0.714286</td>\n",
       "      <td>0.082853</td>\n",
       "      <td>0.951015</td>\n",
       "      <td>1785</td>\n",
       "    </tr>\n",
       "    <tr>\n",
       "      <th>[3]</th>\n",
       "      <td>{race=Black}</td>\n",
       "      <td>=&gt;</td>\n",
       "      <td>{income=under50K}</td>\n",
       "      <td>0.081261</td>\n",
       "      <td>0.870075</td>\n",
       "      <td>0.093396</td>\n",
       "      <td>1.158435</td>\n",
       "      <td>2451</td>\n",
       "    </tr>\n",
       "    <tr>\n",
       "      <th>[4]</th>\n",
       "      <td>{relationship=Unmarried}</td>\n",
       "      <td>=&gt;</td>\n",
       "      <td>{income=under50K}</td>\n",
       "      <td>0.099430</td>\n",
       "      <td>0.933686</td>\n",
       "      <td>0.106492</td>\n",
       "      <td>1.243129</td>\n",
       "      <td>2999</td>\n",
       "    </tr>\n",
       "    <tr>\n",
       "      <th>[5]</th>\n",
       "      <td>{occupation=Other-service}</td>\n",
       "      <td>=&gt;</td>\n",
       "      <td>{income=under50K}</td>\n",
       "      <td>0.102115</td>\n",
       "      <td>0.958904</td>\n",
       "      <td>0.106492</td>\n",
       "      <td>1.276705</td>\n",
       "      <td>3080</td>\n",
       "    </tr>\n",
       "    <tr>\n",
       "      <th>[6]</th>\n",
       "      <td>{occupation=Sales}</td>\n",
       "      <td>=&gt;</td>\n",
       "      <td>{income=under50K}</td>\n",
       "      <td>0.086665</td>\n",
       "      <td>0.729353</td>\n",
       "      <td>0.118825</td>\n",
       "      <td>0.971075</td>\n",
       "      <td>2614</td>\n",
       "    </tr>\n",
       "  </tbody>\n",
       "</table>\n",
       "</div>"
      ],
      "text/plain": [
       "                                lhs                    rhs   support  \\\n",
       "[1]  {occupation=Machine-op-inspct}  =>  {income=under50K}  0.057059   \n",
       "[2]    {workclass=Self-emp-not-inc}  =>  {income=under50K}  0.059180   \n",
       "[3]                    {race=Black}  =>  {income=under50K}  0.081261   \n",
       "[4]        {relationship=Unmarried}  =>  {income=under50K}  0.099430   \n",
       "[5]      {occupation=Other-service}  =>  {income=under50K}  0.102115   \n",
       "[6]              {occupation=Sales}  =>  {income=under50K}  0.086665   \n",
       "\n",
       "     confidence  coverage      lift  count  \n",
       "[1]    0.875381  0.065181  1.165501   1721  \n",
       "[2]    0.714286  0.082853  0.951015   1785  \n",
       "[3]    0.870075  0.093396  1.158435   2451  \n",
       "[4]    0.933686  0.106492  1.243129   2999  \n",
       "[5]    0.958904  0.106492  1.276705   3080  \n",
       "[6]    0.729353  0.118825  0.971075   2614  "
      ]
     },
     "execution_count": 15,
     "metadata": {},
     "output_type": "execute_result"
    }
   ],
   "source": [
    "## find only itemsets with income attribute in the right-hand-side.\n",
    "# from https://cran.r-project.org/web/packages/arules/arules.pdf \n",
    "%R rules <- apriori(df, parameter = list(minlen=2, supp=0.05, conf=0.05), appearance = list(rhs = c(\"income=over50K\", \"income=under50K\")))\n",
    "%R inspect(head(rules))"
   ]
  },
  {
   "cell_type": "markdown",
   "id": "6315d02f",
   "metadata": {},
   "source": [
    "## Deployment\n",
    " - Be critical of your performance and tell the reader how you current model might be usable by other parties. Did you achieve your goals? If not, can you reign in the utility of your modeling?\n",
    " - How useful is your model for interested parties (i.e., the companies or organizations that might want to use it)?\n",
    " - How would your deploy your model for interested parties?\n",
    " - What other data should be collected?\n",
    " - How often would the model need to be updated, etc.? "
   ]
  },
  {
   "cell_type": "markdown",
   "id": "dde7e5b0",
   "metadata": {},
   "source": [
    "Association Rule Mining provided results that were not intended. First, the model resulted in 'rules' that were not associated with income, the goal of the study. After adjusting criteria in attempt to gain information about income specifically, the results provided information in relation to individuals whose income is less than \\$50k. Since the goal of this study was to assess whether an individual makes *more than* \\$50k, the model may be rendered incomplete. \n",
    "\n",
    "However, income as a binary response, provides information about the opposite category, greater than \\$50k. For example, the variables with the highest lift in relation to an individual who makes *less than* \\$50k, are Occupation-Other_Service, Occupation-Machine_Op_Inspct, and Relationship-unmarried. Therefore, it is reasonable to assume that factors important in predicting whether an individual makes *more than* \\$50k, would be the opposite categories contained in Occupation and Relationship. \n",
    "\n",
    "For parties interested in understanding the demographics of individuals with an income less than \\$50k, this model could be deployed for prediction purposes. However, if the same party is interested in individuals whose income is greater than \\$50k, this model would be inconclusive. \n",
    "\n",
    "Since U.S. Census data is collected every 10 years, this model would need to be updated just as often. However, with such a large span of time between updated data, this model is prone to additional prediction errors since market conditions and employment status are subject to change more frequently than data would be made available. "
   ]
  },
  {
   "cell_type": "markdown",
   "id": "c8f79b8f",
   "metadata": {},
   "source": [
    "## Exceptional Work"
   ]
  },
  {
   "cell_type": "markdown",
   "id": "1424b790",
   "metadata": {},
   "source": [
    "### Exceptional Work: Cluster Analysis\n",
    "\n",
    " - Perform cluster analysis using several clustering methods\n",
    " - How did you determine a suitable number of clusters for each method?\n",
    " - Use internal and/or external validation measures to describe and compare the clusterings and the clusters (some visual methods would be good).\n",
    " - Describe your results. What findings are the most interesting and why? \n"
   ]
  },
  {
   "cell_type": "markdown",
   "id": "84c2376a",
   "metadata": {},
   "source": [
    "#### Kmeans Cluster Analysis"
   ]
  },
  {
   "cell_type": "code",
   "execution_count": 18,
   "id": "1810fa4d",
   "metadata": {},
   "outputs": [],
   "source": [
    "#data prep\n",
    "df = pd.read_csv('https://raw.githubusercontent.com/ShelbyP27/DS7331-Project/main/adult-data.csv')\n",
    "\n",
    "#Cleaning up dataset by removing na values & creating one-hot response\n",
    "df = df.replace(to_replace='?',value=np.nan) # replace '?' with NaN (not a number)\n",
    "df.dropna(inplace=True) # Removing na values\n",
    "df.duplicated(subset=None, keep='first') #Remove duplicates\n",
    "\n",
    "#change value for income to include non-mathematic notation\n",
    "df['income'] = df['income'].replace(['<=50K'],'under50K')\n",
    "df['income'] = df['income'].replace(['>50K'],'over50K')\n",
    "df['income'] = df['income'].map({'under50K': 0, 'over50K': 1}).astype(int)\n",
    "\n",
    "#remove attributes\n",
    "del df['education-num']\n",
    "del df['fnlwgt']\n",
    "del df['capital-gain']\n",
    "del df['capital-loss']\n",
    "\n",
    "# One-hot encoding the Categorical variables\n",
    "if 'sex' in df:\n",
    "    df['IsMale'] = df.sex == 'Male'\n",
    "    df.IsMale = df.IsMale.astype(np.int64)\n",
    "    del df['sex']\n",
    "    \n",
    "if 'marital-status' in df:\n",
    "    tmp_df = pd.get_dummies(df['marital-status'], prefix = 'Marital')\n",
    "    df = pd.concat((df, tmp_df), axis =1)\n",
    "    del df['marital-status']\n",
    "    \n",
    "if'relationship' in df:\n",
    "    tmp_df = pd.get_dummies(df['relationship'], prefix = 'Rel')\n",
    "    df = pd.concat((df, tmp_df), axis =1)\n",
    "    del df['relationship']\n",
    "\n",
    "if 'race' in df:\n",
    "    tmp_df = pd.get_dummies(df['race'], prefix = 'Race')\n",
    "    df = pd.concat((df, tmp_df), axis =1)\n",
    "    del df['race']\n",
    "\n",
    "if 'workclass' in df:\n",
    "    tmp_df = pd.get_dummies(df['workclass'], prefix = 'Work')\n",
    "    df = pd.concat((df, tmp_df), axis =1)\n",
    "    del df['workclass']\n",
    "\n",
    "if 'occupation' in df:\n",
    "    tmp_df = pd.get_dummies(df['occupation'], prefix = 'Occupation')\n",
    "    df = pd.concat((df, tmp_df), axis =1)\n",
    "    del df['occupation']\n",
    "\n",
    "if 'education' in df:\n",
    "    tmp_df = pd.get_dummies(df['education'], prefix = 'Education')\n",
    "    df = pd.concat((df, tmp_df), axis =1)\n",
    "    del df['education']\n",
    "\n",
    "    \n",
    "#Replace Native Country with Immigrant atribute\n",
    "if 'native-country' in df:\n",
    "    df['immigrant'] = np.where(df['native-country']!= 'United-States', 1, 0)\n",
    "    del df['native-country']\n",
    "\n"
   ]
  },
  {
   "cell_type": "code",
   "execution_count": 20,
   "id": "80d3fc25",
   "metadata": {},
   "outputs": [],
   "source": [
    "# Separating the features from the response\n",
    "if 'income' in df:\n",
    "    y = df['income'].values\n",
    "    del df['income']\n",
    "    X = df.values\n",
    "\n",
    "# Train / Test split with scaled_X\n",
    "scaled_X = StandardScaler().fit_transform(X)\n",
    "x_train, x_test, y_train, y_test = train_test_split(scaled_X, y, test_size = .2, random_state=1)"
   ]
  },
  {
   "cell_type": "code",
   "execution_count": 21,
   "id": "b05a5f3f",
   "metadata": {},
   "outputs": [
    {
     "data": {
      "image/png": "[encoded data removed]",
      "text/plain": [
       "<Figure size 432x288 with 1 Axes>"
      ]
     },
     "metadata": {
      "needs_background": "light"
     },
     "output_type": "display_data"
    }
   ],
   "source": [
    "#kmeans\n",
    "X = scaled_X\n",
    "\n",
    "# run kmeans algorithm (this is the most traditional use of k-means)\n",
    "kmeans = KMeans(init='random', # initialization\n",
    "        n_clusters=100,  # number of clusters\n",
    "        n_init=5)       # number of different times to run k-means\n",
    "       \n",
    "kmeans.fit(X)\n",
    "\n",
    "# visualize the data\n",
    "centroids = kmeans.cluster_centers_\n",
    "plt.plot(X[:, 0], X[:, 1], 'r.', markersize=2) #plot the data\n",
    "plt.scatter(centroids[:, 0], centroids[:, 1],\n",
    "            marker='+', s=200, linewidths=3, color='k')  # plot the centroids\n",
    "plt.title('K-means clustering for X1')\n",
    "plt.xlabel('X1, Feature 1')\n",
    "plt.ylabel('X1, Feature 2')\n",
    "plt.grid()\n",
    "plt.show()"
   ]
  },
  {
   "cell_type": "code",
   "execution_count": 23,
   "id": "c8ec41f2",
   "metadata": {},
   "outputs": [
    {
     "name": "stdout",
     "output_type": "stream",
     "text": [
      "Time for BatchKMeans:\n",
      "CPU times: user 850 ms, sys: 38.9 ms, total: 889 ms\n",
      "Wall time: 1.07 s\n",
      "Time for MiniBatchKMeans:\n",
      "CPU times: user 164 ms, sys: 25.4 ms, total: 190 ms\n",
      "Wall time: 74.9 ms\n"
     ]
    },
    {
     "data": {
      "image/png": "[encoded data removed]",
      "text/plain": [
       "<Figure size 432x288 with 1 Axes>"
      ]
     },
     "metadata": {
      "needs_background": "light"
     },
     "output_type": "display_data"
    }
   ],
   "source": [
    "from sklearn.cluster import MiniBatchKMeans\n",
    "\n",
    "kmeans_mini = MiniBatchKMeans(n_clusters=2, batch_size=1000)\n",
    "kmeans = KMeans(n_clusters=2)\n",
    "\n",
    "print('Time for BatchKMeans:')\n",
    "%time kmeans.fit(X)\n",
    "print('Time for MiniBatchKMeans:')\n",
    "%time kmeans_mini.fit(X)\n",
    "\n",
    "\n",
    "# visualize the data\n",
    "centroids = kmeans.cluster_centers_\n",
    "plt.plot(X[:, 0], X[:, 1], 'r.', markersize=2) #plot the data\n",
    "plt.scatter(centroids[:, 0], centroids[:, 1],\n",
    "            marker='+', s=200, linewidths=3, label='Batch')  # plot the centroids\n",
    "\n",
    "centroids = kmeans_mini.cluster_centers_\n",
    "plt.scatter(centroids[:, 0], centroids[:, 1],\n",
    "            marker='+', s=200, linewidths=3, color='k',label='Mini-Batch')  # plot the centroids\n",
    "plt.legend()\n",
    "plt.title('K-means clustering for X1')\n",
    "plt.xlabel('X, Feature 1')\n",
    "plt.ylabel('X, Feature 2')\n",
    "plt.grid()\n",
    "plt.show()"
   ]
  },
  {
   "cell_type": "code",
   "execution_count": 25,
   "id": "51984ae7",
   "metadata": {},
   "outputs": [],
   "source": [
    "# lets first look at the connectivity of the graphs and distance to the nearest neighbors\n",
    "X2 = X\n",
    "\n",
    "#=======================================================\n",
    "# CHANGE THESE VALUES TO ADJUST MINPTS FOR EACH DATASET\n",
    "X2_N = 5000\n",
    "\n",
    "#=======================================================\n",
    "\n",
    "# create connectivity graphs before calcualting the hierarchy\n",
    "X2_knn_graph = kneighbors_graph(X2, X2_N, mode='distance') # calculate distance to four nearest neighbors \n",
    "\n",
    "N2 = X2_knn_graph.shape[0]\n",
    "X2_4nn_distances = np.zeros((N2,1))\n",
    "for i in range(N2):\n",
    "    X2_4nn_distances[i] = X2_knn_graph[i,:].max()\n",
    "\n",
    "X2_4nn_distances = np.sort(X2_4nn_distances, axis=0)\n",
    "\n",
    "\n",
    "plt.figure(figsize=(15,5))\n",
    "plt.subplot(1,2,1)\n",
    "plt.plot(range(N2), X2_4nn_distances, 'r.', markersize=2) #plot the data\n",
    "plt.title('Dataset name: X2, sorted by neighbor distance')\n",
    "plt.xlabel('X2, Instance Number')\n",
    "plt.ylabel('X2, Distance to {0}th nearest neighbor'.format(X2_N))\n",
    "plt.grid()\n",
    "\n",
    "plt.show()"
   ]
  }
 ],
 "metadata": {
  "kernelspec": {
   "display_name": "Python 3 (ipykernel)",
   "language": "python",
   "name": "python3"
  },
  "language_info": {
   "codemirror_mode": {
    "name": "ipython",
    "version": 3
   },
   "file_extension": ".py",
   "mimetype": "text/x-python",
   "name": "python",
   "nbconvert_exporter": "python",
   "pygments_lexer": "ipython3",
   "version": "3.8.8"
  }
 },
 "nbformat": 4,
 "nbformat_minor": 5
}
